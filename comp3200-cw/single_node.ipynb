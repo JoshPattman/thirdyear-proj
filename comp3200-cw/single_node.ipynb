{
 "cells": [
  {
   "cell_type": "code",
   "execution_count": 24,
   "metadata": {},
   "outputs": [],
   "source": [
    "import os\n",
    "os.environ['TF_CPP_MIN_LOG_LEVEL'] = '1' "
   ]
  },
  {
   "cell_type": "code",
   "execution_count": 25,
   "metadata": {},
   "outputs": [],
   "source": [
    "import protocol\n",
    "import socket, sys\n",
    "from keras.datasets import mnist\n",
    "import numpy as np\n",
    "import tensorflow as tf\n",
    "import random"
   ]
  },
  {
   "cell_type": "code",
   "execution_count": 26,
   "metadata": {},
   "outputs": [
    {
     "name": "stdout",
     "output_type": "stream",
     "text": [
      "GPU:  [PhysicalDevice(name='/physical_device:GPU:0', device_type='GPU')]\n"
     ]
    }
   ],
   "source": [
    "print('GPU: ', tf.config.experimental.list_physical_devices('GPU'))"
   ]
  },
  {
   "cell_type": "code",
   "execution_count": 27,
   "metadata": {},
   "outputs": [
    {
     "name": "stdout",
     "output_type": "stream",
     "text": [
      "60000\n"
     ]
    }
   ],
   "source": [
    "(train_X, train_Y), (test_X, test_Y) = mnist.load_data()\n",
    "print(len(train_X))"
   ]
  },
  {
   "cell_type": "code",
   "execution_count": 28,
   "metadata": {},
   "outputs": [],
   "source": [
    "num_train_samples=60000\n",
    "train_subset = random.sample(range(len(train_X)), num_train_samples)\n",
    "train_X = np.array([train_X[s] for s in train_subset])\n",
    "train_Y = np.array([train_Y[s] for s in train_subset])"
   ]
  },
  {
   "cell_type": "code",
   "execution_count": 29,
   "metadata": {},
   "outputs": [],
   "source": [
    "from keras.layers import Dense, Input, Flatten, Conv2D, Reshape\n",
    "from keras import Model\n",
    "from keras.losses import SparseCategoricalCrossentropy\n",
    "from keras.metrics import SparseCategoricalAccuracy"
   ]
  },
  {
   "cell_type": "code",
   "execution_count": 30,
   "metadata": {},
   "outputs": [
    {
     "name": "stdout",
     "output_type": "stream",
     "text": [
      "Model: \"model_2\"\n",
      "_________________________________________________________________\n",
      " Layer (type)                Output Shape              Param #   \n",
      "=================================================================\n",
      " input_3 (InputLayer)        [(None, 28, 28)]          0         \n",
      "                                                                 \n",
      " reshape_2 (Reshape)         (None, 28, 28, 1)         0         \n",
      "                                                                 \n",
      " conv2d_4 (Conv2D)           (None, 26, 26, 16)        160       \n",
      "                                                                 \n",
      " conv2d_5 (Conv2D)           (None, 24, 24, 16)        2320      \n",
      "                                                                 \n",
      " flatten_2 (Flatten)         (None, 9216)              0         \n",
      "                                                                 \n",
      " dense_4 (Dense)             (None, 128)               1179776   \n",
      "                                                                 \n",
      " dense_5 (Dense)             (None, 10)                1290      \n",
      "                                                                 \n",
      "=================================================================\n",
      "Total params: 1,183,546\n",
      "Trainable params: 1,183,546\n",
      "Non-trainable params: 0\n",
      "_________________________________________________________________\n"
     ]
    }
   ],
   "source": [
    "inp = Input((28,28))\n",
    "out = Reshape((28,28,1))(inp)\n",
    "out = Conv2D(16, (3,3), activation=\"relu\")(out)\n",
    "out = Conv2D(16, (3,3), activation=\"relu\")(out)\n",
    "out = Flatten()(out)\n",
    "out = Dense(128, activation=\"relu\")(out)\n",
    "out = Dense(10, activation=\"sigmoid\")(out)\n",
    "model = Model(inputs=inp, outputs=out)\n",
    "model.compile(optimizer=\"adam\", loss=SparseCategoricalCrossentropy(), metrics=[SparseCategoricalAccuracy()])\n",
    "model.summary()"
   ]
  },
  {
   "cell_type": "code",
   "execution_count": 31,
   "metadata": {
    "scrolled": true
   },
   "outputs": [
    {
     "name": "stdout",
     "output_type": "stream",
     "text": [
      "313/313 [==============================] - 0s 662us/step\n",
      "1875/1875 [==============================] - 3s 2ms/step - loss: 0.5134 - sparse_categorical_accuracy: 0.9470\n",
      "313/313 [==============================] - 0s 658us/step\n",
      "1875/1875 [==============================] - 3s 2ms/step - loss: 0.0595 - sparse_categorical_accuracy: 0.9826\n",
      "313/313 [==============================] - 0s 657us/step\n",
      "1875/1875 [==============================] - 3s 2ms/step - loss: 0.0424 - sparse_categorical_accuracy: 0.9872\n",
      "313/313 [==============================] - 0s 683us/step\n",
      "1875/1875 [==============================] - 3s 2ms/step - loss: 0.0347 - sparse_categorical_accuracy: 0.9895\n",
      "313/313 [==============================] - 0s 720us/step\n",
      "1875/1875 [==============================] - 3s 2ms/step - loss: 0.0263 - sparse_categorical_accuracy: 0.9920\n",
      "313/313 [==============================] - 0s 660us/step\n",
      "1875/1875 [==============================] - 3s 2ms/step - loss: 0.0228 - sparse_categorical_accuracy: 0.9933\n",
      "313/313 [==============================] - 0s 643us/step\n",
      "1875/1875 [==============================] - 3s 2ms/step - loss: 0.0178 - sparse_categorical_accuracy: 0.9948\n",
      "313/313 [==============================] - 0s 651us/step\n",
      "1875/1875 [==============================] - 3s 2ms/step - loss: 0.0202 - sparse_categorical_accuracy: 0.9947\n",
      "313/313 [==============================] - 0s 654us/step\n",
      "1875/1875 [==============================] - 3s 2ms/step - loss: 0.0150 - sparse_categorical_accuracy: 0.9957\n",
      "313/313 [==============================] - 0s 651us/step\n",
      "1875/1875 [==============================] - 3s 2ms/step - loss: 0.0125 - sparse_categorical_accuracy: 0.9966\n",
      "313/313 [==============================] - 0s 649us/step\n",
      "1875/1875 [==============================] - 3s 2ms/step - loss: 0.0156 - sparse_categorical_accuracy: 0.9963\n",
      "313/313 [==============================] - 0s 643us/step\n",
      "1875/1875 [==============================] - 3s 2ms/step - loss: 0.0150 - sparse_categorical_accuracy: 0.9963\n",
      "313/313 [==============================] - 0s 653us/step\n",
      "1875/1875 [==============================] - 3s 2ms/step - loss: 0.0132 - sparse_categorical_accuracy: 0.9970\n",
      "313/313 [==============================] - 0s 650us/step\n",
      "1875/1875 [==============================] - 3s 2ms/step - loss: 0.0178 - sparse_categorical_accuracy: 0.9964\n",
      "313/313 [==============================] - 0s 651us/step\n",
      "1875/1875 [==============================] - 3s 2ms/step - loss: 0.0125 - sparse_categorical_accuracy: 0.9973\n",
      "313/313 [==============================] - 0s 661us/step\n",
      "1875/1875 [==============================] - 3s 2ms/step - loss: 0.0149 - sparse_categorical_accuracy: 0.9969\n",
      "313/313 [==============================] - 0s 643us/step\n",
      "1875/1875 [==============================] - 3s 2ms/step - loss: 0.0152 - sparse_categorical_accuracy: 0.9974\n",
      "313/313 [==============================] - 0s 664us/step\n",
      "1875/1875 [==============================] - 3s 2ms/step - loss: 0.0144 - sparse_categorical_accuracy: 0.9974\n",
      "313/313 [==============================] - 0s 640us/step\n",
      "1875/1875 [==============================] - 3s 2ms/step - loss: 0.0141 - sparse_categorical_accuracy: 0.9976\n",
      "313/313 [==============================] - 0s 644us/step\n",
      "1875/1875 [==============================] - 3s 2ms/step - loss: 0.0123 - sparse_categorical_accuracy: 0.9979\n",
      "313/313 [==============================] - 0s 654us/step\n",
      "1875/1875 [==============================] - 3s 2ms/step - loss: 0.0142 - sparse_categorical_accuracy: 0.9977\n",
      "313/313 [==============================] - 0s 644us/step\n",
      "1875/1875 [==============================] - 3s 2ms/step - loss: 0.0124 - sparse_categorical_accuracy: 0.9980\n",
      "313/313 [==============================] - 0s 649us/step\n",
      "1875/1875 [==============================] - 3s 2ms/step - loss: 0.0187 - sparse_categorical_accuracy: 0.9976\n",
      "313/313 [==============================] - 0s 671us/step\n",
      "1875/1875 [==============================] - 3s 2ms/step - loss: 0.0138 - sparse_categorical_accuracy: 0.9980\n",
      "313/313 [==============================] - 0s 638us/step\n",
      "1875/1875 [==============================] - 3s 2ms/step - loss: 0.0147 - sparse_categorical_accuracy: 0.9981\n",
      "313/313 [==============================] - 0s 640us/step\n",
      "1875/1875 [==============================] - 3s 2ms/step - loss: 0.0097 - sparse_categorical_accuracy: 0.9985\n",
      "313/313 [==============================] - 0s 656us/step\n",
      "1875/1875 [==============================] - 3s 2ms/step - loss: 0.0202 - sparse_categorical_accuracy: 0.9979\n",
      "313/313 [==============================] - 0s 642us/step\n",
      "1875/1875 [==============================] - 3s 2ms/step - loss: 0.0132 - sparse_categorical_accuracy: 0.9986\n",
      "313/313 [==============================] - 0s 652us/step\n",
      "1875/1875 [==============================] - 3s 2ms/step - loss: 0.0189 - sparse_categorical_accuracy: 0.9982\n",
      "313/313 [==============================] - 0s 655us/step\n",
      "1875/1875 [==============================] - 3s 2ms/step - loss: 0.0140 - sparse_categorical_accuracy: 0.9986\n",
      "313/313 [==============================] - 0s 658us/step\n",
      "1875/1875 [==============================] - 3s 2ms/step - loss: 0.0154 - sparse_categorical_accuracy: 0.9984\n",
      "313/313 [==============================] - 0s 643us/step\n",
      "1875/1875 [==============================] - 3s 2ms/step - loss: 0.0134 - sparse_categorical_accuracy: 0.9988\n",
      "313/313 [==============================] - 0s 654us/step\n",
      "1875/1875 [==============================] - 3s 2ms/step - loss: 0.0157 - sparse_categorical_accuracy: 0.9990\n",
      "313/313 [==============================] - 0s 638us/step\n",
      "1875/1875 [==============================] - 3s 2ms/step - loss: 0.0200 - sparse_categorical_accuracy: 0.9984\n",
      "313/313 [==============================] - 0s 658us/step\n",
      "1875/1875 [==============================] - 3s 2ms/step - loss: 0.0146 - sparse_categorical_accuracy: 0.9988\n",
      "313/313 [==============================] - 0s 658us/step\n",
      "1875/1875 [==============================] - 3s 2ms/step - loss: 0.0224 - sparse_categorical_accuracy: 0.9987\n",
      "313/313 [==============================] - 0s 661us/step\n",
      "1875/1875 [==============================] - 3s 2ms/step - loss: 0.0137 - sparse_categorical_accuracy: 0.9989\n",
      "313/313 [==============================] - 0s 639us/step\n",
      "1875/1875 [==============================] - 3s 2ms/step - loss: 0.0210 - sparse_categorical_accuracy: 0.9987\n",
      "313/313 [==============================] - 0s 640us/step\n",
      "1875/1875 [==============================] - 3s 2ms/step - loss: 0.0194 - sparse_categorical_accuracy: 0.9987\n",
      "313/313 [==============================] - 0s 652us/step\n",
      "1875/1875 [==============================] - 3s 2ms/step - loss: 0.0182 - sparse_categorical_accuracy: 0.9989\n",
      "313/313 [==============================] - 0s 630us/step\n",
      "1875/1875 [==============================] - 3s 2ms/step - loss: 0.0086 - sparse_categorical_accuracy: 0.9994\n",
      "313/313 [==============================] - 0s 630us/step\n",
      "1875/1875 [==============================] - 3s 2ms/step - loss: 0.0192 - sparse_categorical_accuracy: 0.9987\n",
      "313/313 [==============================] - 0s 641us/step\n",
      "1875/1875 [==============================] - 3s 2ms/step - loss: 0.0161 - sparse_categorical_accuracy: 0.9990\n",
      "313/313 [==============================] - 0s 664us/step\n",
      "1875/1875 [==============================] - 3s 2ms/step - loss: 0.0151 - sparse_categorical_accuracy: 0.9992\n",
      "313/313 [==============================] - 0s 657us/step\n",
      "1875/1875 [==============================] - 3s 2ms/step - loss: 0.0190 - sparse_categorical_accuracy: 0.9990\n",
      "313/313 [==============================] - 0s 651us/step\n",
      "1875/1875 [==============================] - 3s 2ms/step - loss: 0.0250 - sparse_categorical_accuracy: 0.9988\n",
      "313/313 [==============================] - 0s 659us/step\n",
      "1875/1875 [==============================] - 3s 2ms/step - loss: 0.0186 - sparse_categorical_accuracy: 0.9991\n",
      "313/313 [==============================] - 0s 680us/step\n",
      "1875/1875 [==============================] - 3s 2ms/step - loss: 0.0099 - sparse_categorical_accuracy: 0.9994\n",
      "313/313 [==============================] - 0s 660us/step\n",
      "1875/1875 [==============================] - 3s 2ms/step - loss: 0.0145 - sparse_categorical_accuracy: 0.9992\n"
     ]
    },
    {
     "name": "stdout",
     "output_type": "stream",
     "text": [
      "313/313 [==============================] - 0s 673us/step\n",
      "1875/1875 [==============================] - 3s 2ms/step - loss: 0.0190 - sparse_categorical_accuracy: 0.9990\n",
      "313/313 [==============================] - 0s 661us/step\n",
      "1875/1875 [==============================] - 3s 2ms/step - loss: 0.0226 - sparse_categorical_accuracy: 0.9987\n",
      "313/313 [==============================] - 0s 643us/step\n",
      "1875/1875 [==============================] - 3s 2ms/step - loss: 0.0159 - sparse_categorical_accuracy: 0.9991\n",
      "313/313 [==============================] - 0s 664us/step\n",
      "1875/1875 [==============================] - 3s 2ms/step - loss: 0.0165 - sparse_categorical_accuracy: 0.9992\n",
      "313/313 [==============================] - 0s 643us/step\n",
      "1875/1875 [==============================] - 3s 2ms/step - loss: 0.0207 - sparse_categorical_accuracy: 0.9988\n",
      "313/313 [==============================] - 0s 651us/step\n",
      "1875/1875 [==============================] - 3s 2ms/step - loss: 0.0153 - sparse_categorical_accuracy: 0.9993\n",
      "313/313 [==============================] - 0s 650us/step\n",
      "1875/1875 [==============================] - 3s 2ms/step - loss: 0.0251 - sparse_categorical_accuracy: 0.9989\n",
      "313/313 [==============================] - 0s 646us/step\n",
      "1875/1875 [==============================] - 3s 2ms/step - loss: 0.0221 - sparse_categorical_accuracy: 0.9991\n",
      "313/313 [==============================] - 0s 651us/step\n",
      "1875/1875 [==============================] - 3s 2ms/step - loss: 0.0189 - sparse_categorical_accuracy: 0.9992\n",
      "313/313 [==============================] - 0s 653us/step\n",
      "1875/1875 [==============================] - 3s 2ms/step - loss: 0.0135 - sparse_categorical_accuracy: 0.9995\n",
      "313/313 [==============================] - 0s 664us/step\n",
      "1875/1875 [==============================] - 3s 2ms/step - loss: 0.0191 - sparse_categorical_accuracy: 0.9993\n",
      "313/313 [==============================] - 0s 669us/step\n",
      "1875/1875 [==============================] - 3s 2ms/step - loss: 0.0244 - sparse_categorical_accuracy: 0.9993\n",
      "313/313 [==============================] - 0s 639us/step\n",
      "1875/1875 [==============================] - 3s 2ms/step - loss: 0.0241 - sparse_categorical_accuracy: 0.9991\n",
      "313/313 [==============================] - 0s 658us/step\n",
      "1875/1875 [==============================] - 3s 2ms/step - loss: 0.0243 - sparse_categorical_accuracy: 0.9991\n",
      "313/313 [==============================] - 0s 653us/step\n",
      "1875/1875 [==============================] - 3s 2ms/step - loss: 0.0136 - sparse_categorical_accuracy: 0.9995\n",
      "313/313 [==============================] - 0s 654us/step\n",
      "1875/1875 [==============================] - 3s 2ms/step - loss: 0.0185 - sparse_categorical_accuracy: 0.9993\n",
      "313/313 [==============================] - 0s 649us/step\n",
      "1875/1875 [==============================] - 3s 2ms/step - loss: 0.0216 - sparse_categorical_accuracy: 0.9992\n",
      "313/313 [==============================] - 0s 647us/step\n",
      "1875/1875 [==============================] - 3s 2ms/step - loss: 0.0224 - sparse_categorical_accuracy: 0.9992\n",
      "313/313 [==============================] - 0s 653us/step\n",
      "1875/1875 [==============================] - 3s 2ms/step - loss: 0.0224 - sparse_categorical_accuracy: 0.9992\n",
      "313/313 [==============================] - 0s 637us/step\n",
      "1875/1875 [==============================] - 3s 2ms/step - loss: 0.0182 - sparse_categorical_accuracy: 0.9994\n",
      "313/313 [==============================] - 0s 649us/step\n",
      "1875/1875 [==============================] - 3s 2ms/step - loss: 0.0144 - sparse_categorical_accuracy: 0.9996\n",
      "313/313 [==============================] - 0s 645us/step\n",
      "1875/1875 [==============================] - 3s 2ms/step - loss: 0.0291 - sparse_categorical_accuracy: 0.9991\n",
      "313/313 [==============================] - 0s 644us/step\n"
     ]
    }
   ],
   "source": [
    "def accuracy(model):\n",
    "    preds = model.predict(test_X)\n",
    "    num_correct = 0\n",
    "    for i in range(len(test_Y)):\n",
    "        if np.argmax(preds[i]) == test_Y[i]:\n",
    "            num_correct += 1\n",
    "    return 100*num_correct/len(test_Y)\n",
    "    \n",
    "from datetime import datetime\n",
    "from matplotlib import pyplot as plt\n",
    "tstart = datetime.now()\n",
    "\n",
    "graph_x = [0]\n",
    "graph_y = [accuracy(model)]\n",
    "\n",
    "while True:\n",
    "    model.fit(train_X, train_Y, epochs=1)\n",
    "    tdiff = (datetime.now() - tstart).total_seconds()\n",
    "    graph_x.append(tdiff)\n",
    "    graph_y.append(accuracy(model))\n",
    "    if tdiff > 240:\n",
    "        break"
   ]
  },
  {
   "cell_type": "code",
   "execution_count": 32,
   "metadata": {},
   "outputs": [
    {
     "data": {
      "image/png": "[encoded data removed]",
      "text/plain": [
       "<Figure size 640x480 with 1 Axes>"
      ]
     },
     "metadata": {},
     "output_type": "display_data"
    }
   ],
   "source": [
    "plt.plot(graph_x, graph_y)\n",
    "plt.show()"
   ]
  },
  {
   "cell_type": "code",
   "execution_count": 34,
   "metadata": {},
   "outputs": [
    {
     "name": "stdout",
     "output_type": "stream",
     "text": [
      "x_o60k, y_o60k = [0, 3.73336, 7.226806, 10.674592, 14.077167, 17.552716, 21.007654, 24.374429, 27.766718, 31.136555, 34.487706, 37.8516, 41.389712, 44.73807, 48.10372, 51.468922, 54.85985, 58.250104, 61.646791, 64.976696, 68.340213, 71.772605, 75.169524, 78.548334, 81.891263, 85.262693, 88.672439, 92.038135, 95.391863, 98.787457, 102.209736, 105.603483, 108.981184, 112.380815, 115.818834, 119.263974, 122.647722, 126.019348, 129.419839, 132.807852, 136.182675, 139.563925, 142.960224, 146.35921, 149.792288, 153.233409, 156.630962, 160.045471, 163.476788, 166.940894, 170.369403, 173.74419, 177.11845, 180.541869, 183.956602, 187.346196, 190.71628, 194.099412, 197.50254, 200.929498, 204.343597, 207.83528, 211.236141, 214.617798, 218.01308, 221.399627, 224.789388, 228.126147, 231.46952, 234.827971, 238.205922, 241.562139], [8.54, 97.46, 97.5, 97.61, 97.39, 96.06, 96.22, 95.85, 94.25, 92.53, 92.46, 89.24, 91.03, 87.91, 88.35, 85.13, 78.69, 81.82, 78.88, 81.48, 78.04, 83.45, 76.34, 82.28, 73.05, 70.98, 68.38, 67.06, 72.09, 76.99, 71.93, 70.71, 75.17, 70.13, 72.15, 70.81, 71.89, 72.72, 74.81, 63.15, 71.38, 70.03, 69.09, 70.5, 72.19, 74.44, 71.11, 72.18, 69.19, 78.55, 73.31, 73.91, 69.35, 72.53, 69.67, 69.09, 72.32, 68.86, 74.82, 72.82, 75.07, 69.8, 70.27, 66.23, 62.86, 64.26, 69.99, 68.79, 67.37, 64.36, 65.46, 67.88]\n"
     ]
    }
   ],
   "source": [
    "print(\"x_o60k, y_o60k = %s, %s\"%(graph_x,graph_y))"
   ]
  }
 ],
 "metadata": {
  "kernelspec": {
   "display_name": "Python 3",
   "language": "python",
   "name": "python3"
  },
  "language_info": {
   "codemirror_mode": {
    "name": "ipython",
    "version": 3
   },
   "file_extension": ".py",
   "mimetype": "text/x-python",
   "name": "python",
   "nbconvert_exporter": "python",
   "pygments_lexer": "ipython3",
   "version": "3.8.10"
  }
 },
 "nbformat": 4,
 "nbformat_minor": 2
}
