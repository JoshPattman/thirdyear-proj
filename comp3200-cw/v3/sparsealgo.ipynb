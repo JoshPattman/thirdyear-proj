{
 "cells": [
  {
   "cell_type": "code",
   "execution_count": 2,
   "id": "324ed225",
   "metadata": {},
   "outputs": [],
   "source": [
    "import numpy as np\n",
    "import math"
   ]
  },
  {
   "cell_type": "code",
   "execution_count": 3,
   "id": "4ab8c043",
   "metadata": {},
   "outputs": [],
   "source": [
    "def count_connections(n):\n",
    "    if n == 1:\n",
    "        return 0\n",
    "    return count_connections(n-1)+n-1"
   ]
  },
  {
   "cell_type": "code",
   "execution_count": 4,
   "id": "f89bd036",
   "metadata": {},
   "outputs": [],
   "source": [
    "def is_connection_in(c, cons):\n",
    "    return c in cons or (c[1], c[0]) in cons"
   ]
  },
  {
   "cell_type": "code",
   "execution_count": 5,
   "id": "af02d604",
   "metadata": {},
   "outputs": [],
   "source": [
    "def random_pair(length):\n",
    "    a = np.random.randint(0, length)\n",
    "    b = a\n",
    "    while b == a:\n",
    "        b = np.random.randint(0, length)\n",
    "    return a, b"
   ]
  },
  {
   "cell_type": "code",
   "execution_count": 6,
   "id": "0cee5e83",
   "metadata": {},
   "outputs": [],
   "source": [
    "def fully_connected_graph(nodes_names, density=0):\n",
    "    # At 0 density the graph is connected minimally (all nodes connect to all nodes)\n",
    "    # At 1 density the graph is fully connected\n",
    "    nodes = [[x] for x in nodes_names]\n",
    "    # Make a random fully connected web\n",
    "    connections = []\n",
    "    while len(nodes) > 1:\n",
    "        # Pick the wto random groups. They cannot be the same group\n",
    "        a, b = random_pair(len(nodes))\n",
    "        na, nb = nodes[a], nodes[b]\n",
    "        # Pick the member of each group to connect\n",
    "        ma, mb = na[np.random.randint(0, len(na))], nb[np.random.randint(0, len(nb))]\n",
    "        connections.append((ma, mb))\n",
    "\n",
    "        newgroup = []\n",
    "        for n in na:\n",
    "            newgroup.append(n)\n",
    "        for n in nb:\n",
    "            newgroup.append(n)\n",
    "        nodes = [n for n in nodes if n not in [nodes[a], nodes[b]]]\n",
    "        nodes.append(newgroup)\n",
    "    # Add density\n",
    "    minimum_connections = len(connections)\n",
    "    maximum_connections = count_connections(len(nodes_names))\n",
    "    target_connections = int((maximum_connections - minimum_connections)*density)+minimum_connections\n",
    "    while len(connections) < target_connections:\n",
    "        con = connections[0]\n",
    "        while is_connection_in(con, connections):\n",
    "            a, b = random_pair(len(nodes_names))\n",
    "            con = (nodes_names[a], nodes_names[b])\n",
    "        connections.append(con)\n",
    "    return connections"
   ]
  },
  {
   "cell_type": "code",
   "execution_count": 7,
   "id": "1bb8d4ed",
   "metadata": {},
   "outputs": [],
   "source": [
    "def mean_min_steps(nodes, connections):\n",
    "    # Initialize the distances matrix with infinity for all pairs of nodes\n",
    "    distances = [[math.inf for _ in range(len(nodes))] for _ in range(len(nodes))]\n",
    "\n",
    "    # Set the distances for adjacent nodes to their edge weights\n",
    "    for u, v in connections:\n",
    "        i = nodes.index(u)\n",
    "        j = nodes.index(v)\n",
    "        distances[i][j] = 1\n",
    "        distances[j][i] = 1\n",
    "\n",
    "    # Floyd-Warshall algorithm for finding the shortest path distances between every pair of nodes\n",
    "    for k in range(len(nodes)):\n",
    "        for i in range(len(nodes)):\n",
    "            for j in range(len(nodes)):\n",
    "                distances[i][j] = min(distances[i][j], distances[i][k] + distances[k][j])\n",
    "\n",
    "    # Calculate the mean minimum number of steps\n",
    "    total = 0\n",
    "    count = 0\n",
    "    for i in range(len(nodes)):\n",
    "        for j in range(i+1, len(nodes)):\n",
    "            total += distances[i][j]\n",
    "            count += 1\n",
    "\n",
    "    mean_min = total / count\n",
    "    return mean_min"
   ]
  },
  {
   "cell_type": "code",
   "execution_count": 8,
   "id": "f6170889",
   "metadata": {},
   "outputs": [],
   "source": [
    "def mean_connections_per_node(nodes, connections):\n",
    "    return len(connections) / len(nodes)"
   ]
  },
  {
   "cell_type": "code",
   "execution_count": 9,
   "id": "21f50bed",
   "metadata": {},
   "outputs": [],
   "source": [
    "def to_web_fmt(nodes, connections):\n",
    "    for n in nodes:\n",
    "        print(n)\n",
    "    for c in connections:\n",
    "        print(\"%s %s\"%c)"
   ]
  },
  {
   "cell_type": "code",
   "execution_count": 10,
   "id": "e2424389",
   "metadata": {},
   "outputs": [
    {
     "name": "stdout",
     "output_type": "stream",
     "text": [
      "0\n",
      "1\n",
      "2\n",
      "3\n",
      "4\n",
      "5\n",
      "6\n",
      "7\n",
      "8\n",
      "9\n",
      "1 3\n",
      "9 4\n",
      "9 8\n",
      "0 5\n",
      "7 2\n",
      "1 7\n",
      "2 6\n",
      "0 6\n",
      "4 2\n",
      "3 0\n",
      "3 5\n",
      "9 2\n",
      "9 7\n",
      "3 4\n"
     ]
    }
   ],
   "source": [
    "nodes = [x for x in range(10)]\n",
    "connections = fully_connected_graph(nodes, density=0.15)\n",
    "to_web_fmt(nodes, connections)"
   ]
  },
  {
   "cell_type": "code",
   "execution_count": 11,
   "id": "f0e98cff",
   "metadata": {},
   "outputs": [
    {
     "data": {
      "text/plain": [
       "1.4"
      ]
     },
     "execution_count": 11,
     "metadata": {},
     "output_type": "execute_result"
    }
   ],
   "source": [
    "mean_connections_per_node(nodes, connections)"
   ]
  },
  {
   "cell_type": "code",
   "execution_count": 12,
   "id": "83be23c0",
   "metadata": {},
   "outputs": [
    {
     "data": {
      "text/plain": [
       "3.0347333333333344"
      ]
     },
     "execution_count": 12,
     "metadata": {},
     "output_type": "execute_result"
    }
   ],
   "source": [
    "t = 0\n",
    "for i in range(1000):\n",
    "    t+=mean_min_steps(nodes, fully_connected_graph(nodes, density=0))\n",
    "t /= 1000\n",
    "t"
   ]
  },
  {
   "cell_type": "code",
   "execution_count": 13,
   "id": "7d10c8b6",
   "metadata": {},
   "outputs": [
    {
     "data": {
      "text/plain": [
       "2.0031999999999983"
      ]
     },
     "execution_count": 13,
     "metadata": {},
     "output_type": "execute_result"
    }
   ],
   "source": [
    "t = 0\n",
    "for i in range(1000):\n",
    "    t+=mean_min_steps(nodes, fully_connected_graph(nodes, density=0.15))\n",
    "t /= 1000\n",
    "t"
   ]
  },
  {
   "cell_type": "code",
   "execution_count": 14,
   "id": "0c8eb9e1",
   "metadata": {},
   "outputs": [
    {
     "data": {
      "text/plain": [
       "1.6593999999999973"
      ]
     },
     "execution_count": 14,
     "metadata": {},
     "output_type": "execute_result"
    }
   ],
   "source": [
    "t = 0\n",
    "for i in range(1000):\n",
    "    t+=mean_min_steps(nodes, fully_connected_graph(nodes, density=0.3))\n",
    "t /= 1000\n",
    "t"
   ]
  },
  {
   "cell_type": "code",
   "execution_count": 15,
   "id": "4c16fab1",
   "metadata": {},
   "outputs": [
    {
     "data": {
      "text/plain": [
       "1.2444444444444496"
      ]
     },
     "execution_count": 15,
     "metadata": {},
     "output_type": "execute_result"
    }
   ],
   "source": [
    "t = 0\n",
    "for i in range(1000):\n",
    "    t+=mean_min_steps(nodes, fully_connected_graph(nodes, density=0.7))\n",
    "t /= 1000\n",
    "t"
   ]
  },
  {
   "cell_type": "code",
   "execution_count": 16,
   "id": "473a93a1",
   "metadata": {},
   "outputs": [
    {
     "data": {
      "text/plain": [
       "1.0"
      ]
     },
     "execution_count": 16,
     "metadata": {},
     "output_type": "execute_result"
    }
   ],
   "source": [
    "t = 0\n",
    "for i in range(1000):\n",
    "    t+=mean_min_steps(nodes, fully_connected_graph(nodes, density=1))\n",
    "t /= 1000\n",
    "t"
   ]
  }
 ],
 "metadata": {
  "kernelspec": {
   "display_name": "Python 3",
   "language": "python",
   "name": "python3"
  },
  "language_info": {
   "codemirror_mode": {
    "name": "ipython",
    "version": 3
   },
   "file_extension": ".py",
   "mimetype": "text/x-python",
   "name": "python",
   "nbconvert_exporter": "python",
   "pygments_lexer": "ipython3",
   "version": "3.8.10"
  },
  "vscode": {
   "interpreter": {
    "hash": "e7370f93d1d0cde622a1f8e1c04877d8463912d04d973331ad4851f04de6915a"
   }
  }
 },
 "nbformat": 4,
 "nbformat_minor": 5
}
