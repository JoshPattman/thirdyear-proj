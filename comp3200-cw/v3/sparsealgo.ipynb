{
 "cells": [
  {
   "cell_type": "code",
   "execution_count": 1,
   "id": "324ed225",
   "metadata": {},
   "outputs": [],
   "source": [
    "import numpy as np\n",
    "import math"
   ]
  },
  {
   "cell_type": "code",
   "execution_count": 2,
   "id": "4ab8c043",
   "metadata": {},
   "outputs": [],
   "source": [
    "def count_connections(n):\n",
    "    if n == 1:\n",
    "        return 0\n",
    "    return count_connections(n-1)+n-1"
   ]
  },
  {
   "cell_type": "code",
   "execution_count": 3,
   "id": "f89bd036",
   "metadata": {},
   "outputs": [],
   "source": [
    "def is_connection_in(c, cons):\n",
    "    return c in cons or (c[1], c[0]) in cons"
   ]
  },
  {
   "cell_type": "code",
   "execution_count": 4,
   "id": "af02d604",
   "metadata": {},
   "outputs": [],
   "source": [
    "def random_pair(length):\n",
    "    a = np.random.randint(0, length)\n",
    "    b = a\n",
    "    while b == a:\n",
    "        b = np.random.randint(0, length)\n",
    "    return a, b"
   ]
  },
  {
   "cell_type": "code",
   "execution_count": 5,
   "id": "0cee5e83",
   "metadata": {},
   "outputs": [],
   "source": [
    "def fully_connected_graph(nodes_names, density=0):\n",
    "    # At 0 density the graph is connected minimally (all nodes connect to all nodes)\n",
    "    # At 1 density the graph is fully connected\n",
    "    nodes = [[x] for x in nodes_names]\n",
    "    # Make a random fully connected web\n",
    "    connections = []\n",
    "    while len(nodes) > 1:\n",
    "        # Pick the wto random groups. They cannot be the same group\n",
    "        a, b = random_pair(len(nodes))\n",
    "        na, nb = nodes[a], nodes[b]\n",
    "        # Pick the member of each group to connect\n",
    "        ma, mb = na[np.random.randint(0, len(na))], nb[np.random.randint(0, len(nb))]\n",
    "        connections.append((ma, mb))\n",
    "\n",
    "        newgroup = []\n",
    "        for n in na:\n",
    "            newgroup.append(n)\n",
    "        for n in nb:\n",
    "            newgroup.append(n)\n",
    "        nodes = [n for n in nodes if n not in [nodes[a], nodes[b]]]\n",
    "        nodes.append(newgroup)\n",
    "    # Add density\n",
    "    minimum_connections = len(connections)\n",
    "    maximum_connections = count_connections(len(nodes_names))\n",
    "    target_connections = int((maximum_connections - minimum_connections)*density)+minimum_connections\n",
    "    while len(connections) < target_connections:\n",
    "        con = connections[0]\n",
    "        while is_connection_in(con, connections):\n",
    "            a, b = random_pair(len(nodes_names))\n",
    "            con = (nodes_names[a], nodes_names[b])\n",
    "        connections.append(con)\n",
    "    return connections"
   ]
  },
  {
   "cell_type": "code",
   "execution_count": 6,
   "id": "1bb8d4ed",
   "metadata": {},
   "outputs": [],
   "source": [
    "def mean_min_steps(nodes, connections):\n",
    "    # Initialize the distances matrix with infinity for all pairs of nodes\n",
    "    distances = [[math.inf for _ in range(len(nodes))] for _ in range(len(nodes))]\n",
    "\n",
    "    # Set the distances for adjacent nodes to their edge weights\n",
    "    for u, v in connections:\n",
    "        i = nodes.index(u)\n",
    "        j = nodes.index(v)\n",
    "        distances[i][j] = 1\n",
    "        distances[j][i] = 1\n",
    "\n",
    "    # Floyd-Warshall algorithm for finding the shortest path distances between every pair of nodes\n",
    "    for k in range(len(nodes)):\n",
    "        for i in range(len(nodes)):\n",
    "            for j in range(len(nodes)):\n",
    "                distances[i][j] = min(distances[i][j], distances[i][k] + distances[k][j])\n",
    "\n",
    "    # Calculate the mean minimum number of steps\n",
    "    total = 0\n",
    "    count = 0\n",
    "    for i in range(len(nodes)):\n",
    "        for j in range(i+1, len(nodes)):\n",
    "            total += distances[i][j]\n",
    "            count += 1\n",
    "\n",
    "    mean_min = total / count\n",
    "    return mean_min"
   ]
  },
  {
   "cell_type": "code",
   "execution_count": 7,
   "id": "f6170889",
   "metadata": {},
   "outputs": [],
   "source": [
    "def mean_connections_per_node(nodes, connections):\n",
    "    return 2* len(connections) / len(nodes)"
   ]
  },
  {
   "cell_type": "code",
   "execution_count": 8,
   "id": "21f50bed",
   "metadata": {},
   "outputs": [],
   "source": [
    "def to_web_fmt(nodes, connections):\n",
    "    for n in nodes:\n",
    "        print(n)\n",
    "    for c in connections:\n",
    "        print(\"%s %s\"%c)"
   ]
  },
  {
   "cell_type": "code",
   "execution_count": 13,
   "id": "e2424389",
   "metadata": {},
   "outputs": [
    {
     "name": "stdout",
     "output_type": "stream",
     "text": [
      "0\n",
      "1\n",
      "2\n",
      "3\n",
      "4\n",
      "5\n",
      "6\n",
      "7\n",
      "8\n",
      "9\n",
      "0 2\n",
      "3 1\n",
      "7 6\n",
      "8 2\n",
      "2 9\n",
      "4 8\n",
      "7 1\n",
      "5 3\n",
      "7 8\n"
     ]
    }
   ],
   "source": [
    "nodes = [x for x in range(10)]\n",
    "connections = fully_connected_graph(nodes, density=0)\n",
    "to_web_fmt(nodes, connections)"
   ]
  },
  {
   "cell_type": "code",
   "execution_count": 36,
   "id": "83be23c0",
   "metadata": {},
   "outputs": [
    {
     "name": "stdout",
     "output_type": "stream",
     "text": [
      "1.2000000000000226 7.199999999999879\n"
     ]
    }
   ],
   "source": [
    "nodes = [x for x in range(10)]\n",
    "t = 0\n",
    "c = 0\n",
    "for i in range(1000):\n",
    "    cons = fully_connected_graph(nodes, density=0.75)\n",
    "    t+=mean_min_steps(nodes, cons)\n",
    "    c+=mean_connections_per_node(nodes, cons)\n",
    "t /= 1000\n",
    "c /= 1000\n",
    "print(t, c)"
   ]
  }
 ],
 "metadata": {
  "kernelspec": {
   "display_name": "Python 3",
   "language": "python",
   "name": "python3"
  },
  "language_info": {
   "codemirror_mode": {
    "name": "ipython",
    "version": 3
   },
   "file_extension": ".py",
   "mimetype": "text/x-python",
   "name": "python",
   "nbconvert_exporter": "python",
   "pygments_lexer": "ipython3",
   "version": "3.8.10"
  },
  "vscode": {
   "interpreter": {
    "hash": "e7370f93d1d0cde622a1f8e1c04877d8463912d04d973331ad4851f04de6915a"
   }
  }
 },
 "nbformat": 4,
 "nbformat_minor": 5
}
