{
 "cells": [
  {
   "cell_type": "code",
   "execution_count": 1,
   "metadata": {
    "scrolled": true
   },
   "outputs": [
    {
     "name": "stdout",
     "output_type": "stream",
     "text": [
      "\u001b[036m[8060] LOG   >\u001b[0m Starting update thread\n",
      "\u001b[036m[8060] LOG   >\u001b[0m Listening for weight requests\n",
      " * Serving Flask app 'protocol_v2'\n",
      " * Debug mode: off\n",
      "\u001b[036m[8061] LOG   >\u001b[0m Starting update thread\n",
      "\u001b[036m[8061] LOG   >\u001b[0m Listening for weight requests\n",
      " * Serving Flask app 'protocol_v2'\n",
      " * Debug mode: off\n",
      "\u001b[036m[8062] LOG   >\u001b[0m Starting update thread\n",
      "\u001b[036m[8062] LOG   >\u001b[0m Listening for weight requests\n",
      " * Serving Flask app 'protocol_v2'\n",
      " * Debug mode: off\n",
      "\u001b[036m[8063] LOG   >\u001b[0m Starting update thread\n",
      "\u001b[036m[8063] LOG   >\u001b[0m Listening for weight requests\n",
      " * Serving Flask app 'protocol_v2'\n",
      " * Debug mode: off\n",
      "\u001b[036m[8064] LOG   >\u001b[0m Starting update thread\n",
      "\u001b[036m[8064] LOG   >\u001b[0m Listening for weight requests\n",
      " * Serving Flask app 'protocol_v2'\n",
      " * Debug mode: off\n",
      "\u001b[036m[8064] LOG   >\u001b[0m Initial accuracy: 11.15\n",
      "\u001b[036m[8062] LOG   >\u001b[0m Initial accuracy: 6.03\n",
      "\u001b[036m[8063] LOG   >\u001b[0m Initial accuracy: 9.62\n",
      "\u001b[036m[8060] LOG   >\u001b[0m Initial accuracy: 13.28\n",
      "\u001b[036m[8061] LOG   >\u001b[0m Initial accuracy: 5.83\n",
      "\u001b[036m[8062] LOG   >\u001b[0m Accuracy: 97.18\n",
      "\u001b[036m[8064] LOG   >\u001b[0m Accuracy: 97.52\n",
      "\u001b[036m[8061] LOG   >\u001b[0m Accuracy: 97.51\n",
      "\u001b[036m[8062] LOG   >\u001b[0m Finished recieving weights\n",
      "\u001b[036m[8060] LOG   >\u001b[0m Accuracy: 97.18\n",
      "\u001b[036m[8064] LOG   >\u001b[0m Finished recieving weights\n",
      "\u001b[036m[8064] LOG   >\u001b[0m Applying average weights\n",
      "\u001b[036m[8064] LOG   >\u001b[0m Testing second accuracy\n",
      "\u001b[036m[8061] LOG   >\u001b[0m Finished recieving weights\n",
      "\u001b[036m[8061] LOG   >\u001b[0m Applying average weights\n",
      "\u001b[036m[8062] LOG   >\u001b[0m Applying average weights\n",
      "\u001b[036m[8061] LOG   >\u001b[0m Testing second accuracy\n",
      "\u001b[036m[8060] LOG   >\u001b[0m Finished recieving weights\n",
      "\u001b[036m[8062] LOG   >\u001b[0m Testing second accuracy\n",
      "\u001b[036m[8060] LOG   >\u001b[0m Applying average weights\n",
      "\u001b[036m[8060] LOG   >\u001b[0m Testing second accuracy\n"
     ]
    }
   ],
   "source": [
    "import os\n",
    "os.environ['TF_CPP_MIN_LOG_LEVEL'] = '1' \n",
    "import swarm_node\n",
    "import importlib\n",
    "num_nodes = 5\n",
    "\n",
    "importlib.reload(swarm_node)\n",
    "node_ports = [x for x in range(8060, 8060+num_nodes)]\n",
    "init_model = swarm_node.new_model()\n",
    "for p in node_ports:\n",
    "    swarm_node.Node(p, [\"localhost:%s\"%x for x in node_ports if x != p], model_ref=init_model)"
   ]
  }
 ],
 "metadata": {
  "kernelspec": {
   "display_name": "Python 3",
   "language": "python",
   "name": "python3"
  },
  "language_info": {
   "codemirror_mode": {
    "name": "ipython",
    "version": 3
   },
   "file_extension": ".py",
   "mimetype": "text/x-python",
   "name": "python",
   "nbconvert_exporter": "python",
   "pygments_lexer": "ipython3",
   "version": "3.8.10"
  }
 },
 "nbformat": 4,
 "nbformat_minor": 2
}
