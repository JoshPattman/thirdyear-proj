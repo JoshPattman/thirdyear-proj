{
 "cells": [
  {
   "cell_type": "code",
   "execution_count": 4,
   "metadata": {},
   "outputs": [
    {
     "name": "stdout",
     "output_type": "stream",
     "text": [
      "Loading modules\n",
      "\u001b[036m[SYS] LOG   >\u001b[0m Loaded modules\n"
     ]
    }
   ],
   "source": [
    "print(\"Loading modules\")\n",
    "import os\n",
    "os.environ['TF_CPP_MIN_LOG_LEVEL'] = '1'\n",
    "import swarm_node\n",
    "import importlib\n",
    "import time\n",
    "swarm_node.log(\"SYS\", \"Loaded modules\")"
   ]
  },
  {
   "cell_type": "code",
   "execution_count": 5,
   "metadata": {},
   "outputs": [],
   "source": [
    "num_nodes = 5\n",
    "use_neighbors = False"
   ]
  },
  {
   "cell_type": "code",
   "execution_count": 6,
   "metadata": {
    "scrolled": false
   },
   "outputs": [
    {
     "name": "stdout",
     "output_type": "stream",
     "text": [
      "\u001b[036m[SYS] LOG   >\u001b[0m Ports: [9060, 9061, 9062, 9063, 9064]\n",
      "\u001b[036m[9062] LOG   >\u001b[0m Accuracy \u001b[035m(pre avg)\u001b[0m <0.91s>: \u001b[035m90.63\u001b[0m\n",
      "\u001b[036m[9060] LOG   >\u001b[0m Starting update thread\n",
      "\u001b[036m[9060] LOG   >\u001b[0m Listening for weight requests\n",
      " * Serving Flask app 'protocol_v2'\n",
      " * Debug mode: off\n",
      "\u001b[036m[9060] LOG   >\u001b[0m Accuracy \u001b[034m(post avg)\u001b[0m <1.0s>: \u001b[034m92.02\u001b[0m\n"
     ]
    },
    {
     "name": "stderr",
     "output_type": "stream",
     "text": [
      "Address already in use\n",
      "Port 9060 is in use by another program. Either identify and stop that program, or start the server with a different port.\n"
     ]
    },
    {
     "name": "stdout",
     "output_type": "stream",
     "text": [
      "\u001b[036m[9061] LOG   >\u001b[0m Accuracy \u001b[035m(pre avg)\u001b[0m <0.89s>: \u001b[035m92.49\u001b[0m\n",
      "\u001b[036m[9062] LOG   >\u001b[0m Accuracy \u001b[034m(post avg)\u001b[0m <0.96s>: \u001b[034m90.63\u001b[0m\n",
      "\u001b[036m[9063] LOG   >\u001b[0m Accuracy \u001b[035m(pre avg)\u001b[0m <1.08s>: \u001b[035m89.71\u001b[0m\n",
      "\u001b[036m[9064] LOG   >\u001b[0m Accuracy \u001b[035m(pre avg)\u001b[0m <0.97s>: \u001b[035m83.38\u001b[0m\n",
      "\u001b[036m[9060] LOG   >\u001b[0m Accuracy \u001b[0m(no training)\u001b[0m <1.16s>: \u001b[0m10.64\u001b[0m\n",
      "\u001b[036m[9060] LOG   >\u001b[0m Accuracy \u001b[035m(pre avg)\u001b[0m <1.07s>: \u001b[035m91.75\u001b[0m\n",
      "\u001b[036m[9063] LOG   >\u001b[0m Accuracy \u001b[034m(post avg)\u001b[0m <0.98s>: \u001b[034m89.71\u001b[0m\n",
      "\u001b[036m[9061] LOG   >\u001b[0m Accuracy \u001b[034m(post avg)\u001b[0m <1.08s>: \u001b[034m92.49\u001b[0m\n",
      "\u001b[036m[9064] LOG   >\u001b[0m Accuracy \u001b[034m(post avg)\u001b[0m <1.06s>: \u001b[034m83.38\u001b[0m\n",
      "\u001b[036m[9062] LOG   >\u001b[0m Accuracy \u001b[035m(pre avg)\u001b[0m <1.07s>: \u001b[035m91.57\u001b[0m\n",
      "\u001b[036m[9061] LOG   >\u001b[0m Starting update thread\n",
      "\u001b[036m[9061] LOG   >\u001b[0m Listening for weight requests\n",
      " * Serving Flask app 'protocol_v2'\n",
      " * Debug mode: off\n"
     ]
    },
    {
     "name": "stderr",
     "output_type": "stream",
     "text": [
      "Address already in use\n",
      "Port 9061 is in use by another program. Either identify and stop that program, or start the server with a different port.\n"
     ]
    },
    {
     "name": "stdout",
     "output_type": "stream",
     "text": [
      "\u001b[036m[9060] LOG   >\u001b[0m Accuracy \u001b[034m(post avg)\u001b[0m <1.36s>: \u001b[034m91.75\u001b[0m\n",
      "\u001b[036m[9062] LOG   >\u001b[0m Accuracy \u001b[034m(post avg)\u001b[0m <1.27s>: \u001b[034m91.57\u001b[0m\n",
      "\u001b[036m[9061] LOG   >\u001b[0m Accuracy \u001b[035m(pre avg)\u001b[0m <1.25s>: \u001b[035m92.31\u001b[0m\n",
      "\u001b[036m[9064] LOG   >\u001b[0m Accuracy \u001b[035m(pre avg)\u001b[0m <1.25s>: \u001b[035m89.38\u001b[0m\n",
      "\u001b[036m[9063] LOG   >\u001b[0m Accuracy \u001b[035m(pre avg)\u001b[0m <1.27s>: \u001b[035m90.84\u001b[0m\n",
      "\u001b[036m[9060] LOG   >\u001b[0m Accuracy \u001b[035m(pre avg)\u001b[0m <1.31s>: \u001b[035m86.26\u001b[0m\n",
      "\u001b[036m[9061] LOG   >\u001b[0m Accuracy \u001b[0m(no training)\u001b[0m <1.33s>: \u001b[0m9.56\u001b[0m\n",
      "\u001b[036m[9060] LOG   >\u001b[0m Accuracy \u001b[035m(pre avg)\u001b[0m <1.36s>: \u001b[035m91.59\u001b[0m\n",
      "\u001b[036m[9064] LOG   >\u001b[0m Accuracy \u001b[034m(post avg)\u001b[0m <1.31s>: \u001b[034m89.38\u001b[0m\n",
      "\u001b[036m[9061] LOG   >\u001b[0m Accuracy \u001b[034m(post avg)\u001b[0m <1.36s>: \u001b[034m92.31\u001b[0m\n",
      "\u001b[036m[9062] LOG   >\u001b[0m Accuracy \u001b[035m(pre avg)\u001b[0m <1.31s>: \u001b[035m91.77\u001b[0m\n",
      "\u001b[036m[9063] LOG   >\u001b[0m Accuracy \u001b[034m(post avg)\u001b[0m <1.27s>: \u001b[034m90.84\u001b[0m\n",
      "\u001b[036m[9060] LOG   >\u001b[0m Accuracy \u001b[034m(post avg)\u001b[0m <1.22s>: \u001b[034m86.26\u001b[0m\n",
      "\u001b[036m[9062] LOG   >\u001b[0m Starting update thread\n",
      "\u001b[036m[9062] LOG   >\u001b[0m Listening for weight requests\n",
      " * Serving Flask app 'protocol_v2'\n",
      " * Debug mode: off\n"
     ]
    },
    {
     "name": "stderr",
     "output_type": "stream",
     "text": [
      "Address already in use\n",
      "Port 9062 is in use by another program. Either identify and stop that program, or start the server with a different port.\n"
     ]
    },
    {
     "name": "stdout",
     "output_type": "stream",
     "text": [
      "\u001b[036m[9060] LOG   >\u001b[0m Accuracy \u001b[034m(post avg)\u001b[0m <1.53s>: \u001b[034m91.59\u001b[0m\n",
      "\u001b[036m[9062] LOG   >\u001b[0m Accuracy \u001b[034m(post avg)\u001b[0m <1.52s>: \u001b[034m91.77\u001b[0m\n",
      "\u001b[036m[9062] LOG   >\u001b[0m Accuracy \u001b[0m(no training)\u001b[0m <1.43s>: \u001b[0m13.41\u001b[0m\n",
      "\u001b[036m[9061] LOG   >\u001b[0m Accuracy \u001b[035m(pre avg)\u001b[0m <1.3s>: \u001b[035m92.4\u001b[0m\n",
      "\u001b[036m[9063] LOG   >\u001b[0m Accuracy \u001b[035m(pre avg)\u001b[0m <1.24s>: \u001b[035m91.39\u001b[0m\n",
      "\u001b[036m[9064] LOG   >\u001b[0m Accuracy \u001b[035m(pre avg)\u001b[0m <1.33s>: \u001b[035m90.91\u001b[0m\n",
      "\u001b[036m[9061] LOG   >\u001b[0m Accuracy \u001b[035m(pre avg)\u001b[0m <1.38s>: \u001b[035m85.67\u001b[0m\n",
      "\u001b[036m[9060] LOG   >\u001b[0m Accuracy \u001b[035m(pre avg)\u001b[0m <1.26s>: \u001b[035m90.64\u001b[0m\n",
      "\u001b[036m[9061] LOG   >\u001b[0m Accuracy \u001b[034m(post avg)\u001b[0m <1.58s>: \u001b[034m92.4\u001b[0m\n",
      "\u001b[036m[9063] LOG   >\u001b[0m Accuracy \u001b[034m(post avg)\u001b[0m <1.57s>: \u001b[034m91.39\u001b[0m\n",
      "\u001b[036m[9064] LOG   >\u001b[0m Accuracy \u001b[034m(post avg)\u001b[0m <1.57s>: \u001b[034m90.91\u001b[0m\n",
      "\u001b[036m[9063] LOG   >\u001b[0m Starting update thread\n",
      "\u001b[036m[9063] LOG   >\u001b[0m Listening for weight requests\n",
      " * Serving Flask app 'protocol_v2'\n",
      " * Debug mode: off\n",
      "\u001b[036m[9061] LOG   >\u001b[0m Accuracy \u001b[034m(post avg)\u001b[0m <1.52s>: \u001b[034m85.67\u001b[0m\n",
      "\u001b[036m[9060] LOG   >\u001b[0m Accuracy \u001b[034m(post avg)\u001b[0m <1.57s>: \u001b[034m90.64\u001b[0m\n",
      "\u001b[036m[9060] LOG   >\u001b[0m Accuracy \u001b[035m(pre avg)\u001b[0m <1.69s>: \u001b[035m91.42\u001b[0m\n"
     ]
    },
    {
     "name": "stderr",
     "output_type": "stream",
     "text": [
      "Address already in use\n",
      "Port 9063 is in use by another program. Either identify and stop that program, or start the server with a different port.\n"
     ]
    },
    {
     "name": "stdout",
     "output_type": "stream",
     "text": [
      "\u001b[036m[9062] LOG   >\u001b[0m Accuracy \u001b[035m(pre avg)\u001b[0m <1.63s>: \u001b[035m91.72\u001b[0m\n",
      "\u001b[036m[9062] LOG   >\u001b[0m Accuracy \u001b[035m(pre avg)\u001b[0m <1.61s>: \u001b[035m85.09\u001b[0m\n",
      "\u001b[036m[9063] LOG   >\u001b[0m Accuracy \u001b[0m(no training)\u001b[0m <1.94s>: \u001b[0m5.98\u001b[0m\n",
      "\u001b[036m[9062] LOG   >\u001b[0m Accuracy \u001b[034m(post avg)\u001b[0m <1.66s>: \u001b[034m91.72\u001b[0m\n",
      "\u001b[036m[9060] LOG   >\u001b[0m Accuracy \u001b[034m(post avg)\u001b[0m <1.8s>: \u001b[034m91.42\u001b[0m\n",
      "\u001b[036m[9064] LOG   >\u001b[0m Accuracy \u001b[035m(pre avg)\u001b[0m <1.64s>: \u001b[035m92.52\u001b[0m\n",
      "\u001b[036m[9063] LOG   >\u001b[0m Accuracy \u001b[035m(pre avg)\u001b[0m <1.67s>: \u001b[035m91.6\u001b[0m\n",
      "\u001b[036m[9061] LOG   >\u001b[0m Accuracy \u001b[035m(pre avg)\u001b[0m <1.63s>: \u001b[035m92.44\u001b[0m\n",
      "\u001b[036m[9060] LOG   >\u001b[0m Accuracy \u001b[035m(pre avg)\u001b[0m <1.62s>: \u001b[035m91.44\u001b[0m\n",
      "\u001b[036m[9061] LOG   >\u001b[0m Accuracy \u001b[035m(pre avg)\u001b[0m <1.7s>: \u001b[035m91.11\u001b[0m\n",
      "\u001b[036m[9064] LOG   >\u001b[0m Starting update thread\n",
      "\u001b[036m[9064] LOG   >\u001b[0m Listening for weight requests\n",
      " * Serving Flask app 'protocol_v2'\n",
      " * Debug mode: off\n",
      "\u001b[036m[9062] LOG   >\u001b[0m Accuracy \u001b[034m(post avg)\u001b[0m <1.65s>: \u001b[034m85.09\u001b[0m\n"
     ]
    },
    {
     "name": "stderr",
     "output_type": "stream",
     "text": [
      "Address already in use\n",
      "Port 9064 is in use by another program. Either identify and stop that program, or start the server with a different port.\n"
     ]
    },
    {
     "name": "stdout",
     "output_type": "stream",
     "text": [
      "\u001b[036m[9064] LOG   >\u001b[0m Accuracy \u001b[034m(post avg)\u001b[0m <1.92s>: \u001b[034m92.52\u001b[0m\n",
      "\u001b[036m[9063] LOG   >\u001b[0m Accuracy \u001b[034m(post avg)\u001b[0m <1.92s>: \u001b[034m91.6\u001b[0m\n",
      "\u001b[036m[9061] LOG   >\u001b[0m Accuracy \u001b[034m(post avg)\u001b[0m <1.91s>: \u001b[034m92.44\u001b[0m\n",
      "\u001b[036m[9061] LOG   >\u001b[0m Accuracy \u001b[034m(post avg)\u001b[0m <1.8s>: \u001b[034m91.11\u001b[0m\n",
      "\u001b[036m[9060] LOG   >\u001b[0m Accuracy \u001b[034m(post avg)\u001b[0m <1.92s>: \u001b[034m91.44\u001b[0m\n",
      "\u001b[036m[9062] LOG   >\u001b[0m Accuracy \u001b[035m(pre avg)\u001b[0m <1.81s>: \u001b[035m91.67\u001b[0m\n",
      "\u001b[036m[9060] LOG   >\u001b[0m Accuracy \u001b[035m(pre avg)\u001b[0m <1.8s>: \u001b[035m91.15\u001b[0m\n",
      "\u001b[036m[SYS] LOG   >\u001b[0m Started all nets\n",
      "\u001b[036m[9064] LOG   >\u001b[0m Accuracy \u001b[0m(no training)\u001b[0m <1.9s>: \u001b[0m5.52\u001b[0m\n",
      "\u001b[036m[9063] LOG   >\u001b[0m Accuracy \u001b[035m(pre avg)\u001b[0m <1.66s>: \u001b[035m89.3\u001b[0m\n",
      "\u001b[036m[9062] LOG   >\u001b[0m Accuracy \u001b[035m(pre avg)\u001b[0m <1.54s>: \u001b[035m89.23\u001b[0m\n",
      "\u001b[036m[9060] LOG   >\u001b[0m Accuracy \u001b[034m(post avg)\u001b[0m <1.96s>: \u001b[034m91.15\u001b[0m\n",
      "\u001b[036m[9062] LOG   >\u001b[0m Accuracy \u001b[034m(post avg)\u001b[0m <1.97s>: \u001b[034m91.67\u001b[0m\n",
      "\u001b[036m[9063] LOG   >\u001b[0m Accuracy \u001b[035m(pre avg)\u001b[0m <1.84s>: \u001b[035m91.56\u001b[0m\n",
      "\u001b[036m[9064] LOG   >\u001b[0m Accuracy \u001b[035m(pre avg)\u001b[0m <1.89s>: \u001b[035m92.63\u001b[0m\n",
      "\u001b[036m[9060] LOG   >\u001b[0m Accuracy \u001b[035m(pre avg)\u001b[0m <1.95s>: \u001b[035m91.82\u001b[0m\n",
      "\u001b[036m[9061] LOG   >\u001b[0m Accuracy \u001b[035m(pre avg)\u001b[0m <1.91s>: \u001b[035m92.51\u001b[0m\n",
      "\u001b[036m[9062] LOG   >\u001b[0m Accuracy \u001b[034m(post avg)\u001b[0m <1.91s>: \u001b[034m89.23\u001b[0m\n",
      "\u001b[036m[9063] LOG   >\u001b[0m Accuracy \u001b[034m(post avg)\u001b[0m <1.9s>: \u001b[034m89.3\u001b[0m\n",
      "\u001b[036m[9061] LOG   >\u001b[0m Accuracy \u001b[035m(pre avg)\u001b[0m <1.82s>: \u001b[035m91.68\u001b[0m\n",
      "\u001b[036m[9063] LOG   >\u001b[0m Accuracy \u001b[034m(post avg)\u001b[0m <1.63s>: \u001b[034m91.56\u001b[0m\n",
      "\u001b[036m[9064] LOG   >\u001b[0m Accuracy \u001b[034m(post avg)\u001b[0m <1.7s>: \u001b[034m92.63\u001b[0m\n",
      "\u001b[036m[9060] LOG   >\u001b[0m Accuracy \u001b[034m(post avg)\u001b[0m <1.7s>: \u001b[034m91.82\u001b[0m\n",
      "\u001b[036m[9060] LOG   >\u001b[0m Accuracy \u001b[035m(pre avg)\u001b[0m <1.78s>: \u001b[035m91.01\u001b[0m\n",
      "\u001b[036m[9064] LOG   >\u001b[0m Accuracy \u001b[035m(pre avg)\u001b[0m <1.8s>: \u001b[035m83.44\u001b[0m\n",
      "\u001b[036m[9061] LOG   >\u001b[0m Accuracy \u001b[034m(post avg)\u001b[0m <1.72s>: \u001b[034m92.51\u001b[0m\n",
      "\u001b[036m[9062] LOG   >\u001b[0m Accuracy \u001b[035m(pre avg)\u001b[0m <1.71s>: \u001b[035m91.7\u001b[0m\n",
      "\u001b[036m[9061] LOG   >\u001b[0m Accuracy \u001b[034m(post avg)\u001b[0m <1.72s>: \u001b[034m91.68\u001b[0m\n",
      "\u001b[036m[9062] LOG   >\u001b[0m Accuracy \u001b[035m(pre avg)\u001b[0m <1.61s>: \u001b[035m90.89\u001b[0m\n",
      "\u001b[036m[9063] LOG   >\u001b[0m Accuracy \u001b[035m(pre avg)\u001b[0m <1.55s>: \u001b[035m91.67\u001b[0m\n",
      "\u001b[036m[9060] LOG   >\u001b[0m Accuracy \u001b[034m(post avg)\u001b[0m <1.85s>: \u001b[034m91.01\u001b[0m\n",
      "\u001b[036m[9064] LOG   >\u001b[0m Accuracy \u001b[034m(post avg)\u001b[0m <1.85s>: \u001b[034m83.44\u001b[0m\n",
      "\u001b[036m[9062] LOG   >\u001b[0m Accuracy \u001b[034m(post avg)\u001b[0m <1.85s>: \u001b[034m91.7\u001b[0m\n",
      "\u001b[036m[9063] LOG   >\u001b[0m Accuracy \u001b[035m(pre avg)\u001b[0m <1.85s>: \u001b[035m91.5\u001b[0m\n",
      "\u001b[036m[9064] LOG   >\u001b[0m Accuracy \u001b[035m(pre avg)\u001b[0m <1.74s>: \u001b[035m92.82\u001b[0m\n",
      "\u001b[036m[9060] LOG   >\u001b[0m Accuracy \u001b[035m(pre avg)\u001b[0m <1.73s>: \u001b[035m92.14\u001b[0m\n",
      "\u001b[036m[9061] LOG   >\u001b[0m Accuracy \u001b[035m(pre avg)\u001b[0m <1.71s>: \u001b[035m92.57\u001b[0m\n",
      "\u001b[036m[9063] LOG   >\u001b[0m Accuracy \u001b[034m(post avg)\u001b[0m <1.48s>: \u001b[034m91.67\u001b[0m\n",
      "\u001b[036m[9062] LOG   >\u001b[0m Accuracy \u001b[034m(post avg)\u001b[0m <1.54s>: \u001b[034m90.89\u001b[0m\n",
      "\u001b[036m[9061] LOG   >\u001b[0m Accuracy \u001b[035m(pre avg)\u001b[0m <1.45s>: \u001b[035m92.22\u001b[0m\n",
      "\u001b[036m[9063] LOG   >\u001b[0m Accuracy \u001b[034m(post avg)\u001b[0m <1.66s>: \u001b[034m91.5\u001b[0m\n",
      "\u001b[036m[9064] LOG   >\u001b[0m Accuracy \u001b[034m(post avg)\u001b[0m <1.67s>: \u001b[034m92.82\u001b[0m\n",
      "\u001b[036m[9061] LOG   >\u001b[0m Accuracy \u001b[034m(post avg)\u001b[0m <1.65s>: \u001b[034m92.57\u001b[0m\n",
      "\u001b[036m[9064] LOG   >\u001b[0m Accuracy \u001b[035m(pre avg)\u001b[0m <1.68s>: \u001b[035m88.49\u001b[0m\n",
      "\u001b[036m[9062] LOG   >\u001b[0m Accuracy \u001b[035m(pre avg)\u001b[0m <1.62s>: \u001b[035m91.73\u001b[0m\n",
      "\u001b[036m[9060] LOG   >\u001b[0m Accuracy \u001b[034m(post avg)\u001b[0m <1.71s>: \u001b[034m92.14\u001b[0m\n",
      "\u001b[036m[9061] LOG   >\u001b[0m Accuracy \u001b[034m(post avg)\u001b[0m <1.4s>: \u001b[034m92.22\u001b[0m\n",
      "\u001b[036m[9063] LOG   >\u001b[0m Accuracy \u001b[035m(pre avg)\u001b[0m <1.4s>: \u001b[035m92.03\u001b[0m\n",
      "\u001b[036m[9062] LOG   >\u001b[0m Accuracy \u001b[035m(pre avg)\u001b[0m <1.4s>: \u001b[035m91.24\u001b[0m\n",
      "\u001b[036m[9062] LOG   >\u001b[0m Accuracy \u001b[034m(post avg)\u001b[0m <1.46s>: \u001b[034m91.73\u001b[0m\n",
      "\u001b[036m[9064] LOG   >\u001b[0m Accuracy \u001b[034m(post avg)\u001b[0m <1.55s>: \u001b[034m88.49\u001b[0m\n",
      "\u001b[036m[9063] LOG   >\u001b[0m Accuracy \u001b[034m(post avg)\u001b[0m <1.43s>: \u001b[034m92.03\u001b[0m\n",
      "\u001b[036m[9062] LOG   >\u001b[0m Accuracy \u001b[034m(post avg)\u001b[0m <1.34s>: \u001b[034m91.24\u001b[0m\n",
      "\u001b[036m[9063] LOG   >\u001b[0m Accuracy \u001b[035m(pre avg)\u001b[0m <1.36s>: \u001b[035m91.47\u001b[0m\n",
      "\u001b[036m[9060] LOG   >\u001b[0m Accuracy \u001b[035m(pre avg)\u001b[0m <1.31s>: \u001b[035m92.22\u001b[0m\n",
      "\u001b[036m[9061] LOG   >\u001b[0m Accuracy \u001b[035m(pre avg)\u001b[0m <1.24s>: \u001b[035m92.52\u001b[0m\n",
      "\u001b[036m[9064] LOG   >\u001b[0m Accuracy \u001b[035m(pre avg)\u001b[0m <1.37s>: \u001b[035m92.94\u001b[0m\n",
      "\u001b[036m[9064] LOG   >\u001b[0m Accuracy \u001b[034m(post avg)\u001b[0m <1.47s>: \u001b[034m92.94\u001b[0m\n",
      "\u001b[036m[9061] LOG   >\u001b[0m Accuracy \u001b[034m(post avg)\u001b[0m <1.5s>: \u001b[034m92.52\u001b[0m\n",
      "\u001b[036m[9063] LOG   >\u001b[0m Accuracy \u001b[034m(post avg)\u001b[0m <1.6s>: \u001b[034m91.47\u001b[0m\n",
      "\u001b[036m[9060] LOG   >\u001b[0m Accuracy \u001b[034m(post avg)\u001b[0m <1.62s>: \u001b[034m92.22\u001b[0m\n",
      "\u001b[036m[9062] LOG   >\u001b[0m Accuracy \u001b[035m(pre avg)\u001b[0m <1.43s>: \u001b[035m91.72\u001b[0m\n",
      "\u001b[036m[9062] LOG   >\u001b[0m Accuracy \u001b[035m(pre avg)\u001b[0m <1.38s>: \u001b[035m90.91\u001b[0m\n",
      "\u001b[036m[9064] LOG   >\u001b[0m Accuracy \u001b[035m(pre avg)\u001b[0m <1.41s>: \u001b[035m90.95\u001b[0m\n",
      "\u001b[036m[9063] LOG   >\u001b[0m Accuracy \u001b[035m(pre avg)\u001b[0m <1.4s>: \u001b[035m92.32\u001b[0m\n",
      "\u001b[036m[9062] LOG   >\u001b[0m Accuracy \u001b[034m(post avg)\u001b[0m <1.46s>: \u001b[034m91.72\u001b[0m\n",
      "\u001b[036m[9061] LOG   >\u001b[0m Accuracy \u001b[035m(pre avg)\u001b[0m <1.36s>: \u001b[035m92.51\u001b[0m\n",
      "\u001b[036m[9060] LOG   >\u001b[0m Accuracy \u001b[035m(pre avg)\u001b[0m <1.27s>: \u001b[035m92.24\u001b[0m\n",
      "\u001b[036m[9063] LOG   >\u001b[0m Accuracy \u001b[035m(pre avg)\u001b[0m <1.27s>: \u001b[035m91.56\u001b[0m\n",
      "\u001b[036m[9062] LOG   >\u001b[0m Accuracy \u001b[034m(post avg)\u001b[0m <1.43s>: \u001b[034m90.91\u001b[0m\n",
      "\u001b[036m[9063] LOG   >\u001b[0m Accuracy \u001b[034m(post avg)\u001b[0m <1.31s>: \u001b[034m92.32\u001b[0m\n",
      "\u001b[036m[9064] LOG   >\u001b[0m Accuracy \u001b[035m(pre avg)\u001b[0m <1.41s>: \u001b[035m92.96\u001b[0m\n",
      "\u001b[036m[9064] LOG   >\u001b[0m Accuracy \u001b[034m(post avg)\u001b[0m <1.45s>: \u001b[034m90.95\u001b[0m\n",
      "\u001b[036m[9064] LOG   >\u001b[0m Accuracy \u001b[034m(post avg)\u001b[0m <1.32s>: \u001b[034m92.96\u001b[0m\n",
      "\u001b[036m[9063] LOG   >\u001b[0m Accuracy \u001b[034m(post avg)\u001b[0m <1.3s>: \u001b[034m91.56\u001b[0m\n",
      "\u001b[036m[9061] LOG   >\u001b[0m Accuracy \u001b[034m(post avg)\u001b[0m <1.42s>: \u001b[034m92.51\u001b[0m\n",
      "\u001b[036m[9060] LOG   >\u001b[0m Accuracy \u001b[034m(post avg)\u001b[0m <1.35s>: \u001b[034m92.24\u001b[0m\n",
      "\u001b[036m[9062] LOG   >\u001b[0m Accuracy \u001b[035m(pre avg)\u001b[0m <1.14s>: \u001b[035m90.85\u001b[0m\n",
      "\u001b[036m[9063] LOG   >\u001b[0m Accuracy \u001b[035m(pre avg)\u001b[0m <1.32s>: \u001b[035m92.32\u001b[0m\n",
      "\u001b[036m[9064] LOG   >\u001b[0m Accuracy \u001b[035m(pre avg)\u001b[0m <1.3s>: \u001b[035m91.59\u001b[0m\n",
      "\u001b[036m[9062] LOG   >\u001b[0m Accuracy \u001b[034m(post avg)\u001b[0m <1.33s>: \u001b[034m90.85\u001b[0m\n",
      "\u001b[036m[9064] LOG   >\u001b[0m Accuracy \u001b[034m(post avg)\u001b[0m <1.26s>: \u001b[034m91.59\u001b[0m\n",
      "\u001b[036m[9063] LOG   >\u001b[0m Accuracy \u001b[034m(post avg)\u001b[0m <1.3s>: \u001b[034m92.32\u001b[0m\n",
      "\u001b[036m[9064] LOG   >\u001b[0m Accuracy \u001b[035m(pre avg)\u001b[0m <1.31s>: \u001b[035m92.89\u001b[0m\n",
      "\u001b[036m[9063] LOG   >\u001b[0m Accuracy \u001b[035m(pre avg)\u001b[0m <1.29s>: \u001b[035m91.59\u001b[0m\n",
      "\u001b[036m[9060] LOG   >\u001b[0m Accuracy \u001b[035m(pre avg)\u001b[0m <1.29s>: \u001b[035m92.3\u001b[0m\n",
      "\u001b[036m[9061] LOG   >\u001b[0m Accuracy \u001b[035m(pre avg)\u001b[0m <1.24s>: \u001b[035m92.59\u001b[0m\n",
      "\u001b[036m[9064] LOG   >\u001b[0m Accuracy \u001b[034m(post avg)\u001b[0m <1.24s>: \u001b[034m92.89\u001b[0m\n",
      "\u001b[036m[9063] LOG   >\u001b[0m Accuracy \u001b[034m(post avg)\u001b[0m <1.23s>: \u001b[034m91.59\u001b[0m\n",
      "\u001b[036m[9061] LOG   >\u001b[0m Accuracy \u001b[034m(post avg)\u001b[0m <1.15s>: \u001b[034m92.59\u001b[0m\n",
      "\u001b[036m[9060] LOG   >\u001b[0m Accuracy \u001b[034m(post avg)\u001b[0m <1.21s>: \u001b[034m92.3\u001b[0m\n",
      "\u001b[036m[9064] LOG   >\u001b[0m Accuracy \u001b[035m(pre avg)\u001b[0m <1.14s>: \u001b[035m91.84\u001b[0m\n",
      "\u001b[036m[9063] LOG   >\u001b[0m Accuracy \u001b[035m(pre avg)\u001b[0m <1.12s>: \u001b[035m92.19\u001b[0m\n",
      "\u001b[036m[9062] LOG   >\u001b[0m Accuracy \u001b[035m(pre avg)\u001b[0m <1.2s>: \u001b[035m90.43\u001b[0m\n",
      "\u001b[036m[9062] LOG   >\u001b[0m Accuracy \u001b[034m(post avg)\u001b[0m <1.08s>: \u001b[034m90.43\u001b[0m\n",
      "\u001b[036m[9064] LOG   >\u001b[0m Accuracy \u001b[034m(post avg)\u001b[0m <1.1s>: \u001b[034m91.84\u001b[0m\n",
      "\u001b[036m[9063] LOG   >\u001b[0m Accuracy \u001b[034m(post avg)\u001b[0m <1.1s>: \u001b[034m92.19\u001b[0m\n",
      "\u001b[036m[9064] LOG   >\u001b[0m Accuracy \u001b[035m(pre avg)\u001b[0m <1.01s>: \u001b[035m92.88\u001b[0m\n",
      "\u001b[036m[9061] LOG   >\u001b[0m Accuracy \u001b[035m(pre avg)\u001b[0m <0.94s>: \u001b[035m92.6\u001b[0m\n",
      "\u001b[036m[9060] LOG   >\u001b[0m Accuracy \u001b[035m(pre avg)\u001b[0m <1.03s>: \u001b[035m92.23\u001b[0m\n",
      "\u001b[036m[9064] LOG   >\u001b[0m Accuracy \u001b[034m(post avg)\u001b[0m <1.07s>: \u001b[034m92.88\u001b[0m\n",
      "\u001b[036m[9061] LOG   >\u001b[0m Accuracy \u001b[034m(post avg)\u001b[0m <1.07s>: \u001b[034m92.6\u001b[0m\n",
      "\u001b[036m[9060] LOG   >\u001b[0m Accuracy \u001b[034m(post avg)\u001b[0m <1.06s>: \u001b[034m92.23\u001b[0m\n",
      "\u001b[036m[9062] LOG   >\u001b[0m Accuracy \u001b[035m(pre avg)\u001b[0m <0.95s>: \u001b[035m90.34\u001b[0m\n",
      "\u001b[036m[9063] LOG   >\u001b[0m Accuracy \u001b[035m(pre avg)\u001b[0m <0.96s>: \u001b[035m92.05\u001b[0m\n",
      "\u001b[036m[9064] LOG   >\u001b[0m Accuracy \u001b[035m(pre avg)\u001b[0m <0.91s>: \u001b[035m92.0\u001b[0m\n"
     ]
    },
    {
     "name": "stdout",
     "output_type": "stream",
     "text": [
      "\u001b[036m[9062] LOG   >\u001b[0m Accuracy \u001b[034m(post avg)\u001b[0m <0.85s>: \u001b[034m90.34\u001b[0m\n",
      "\u001b[036m[9063] LOG   >\u001b[0m Accuracy \u001b[034m(post avg)\u001b[0m <0.83s>: \u001b[034m92.05\u001b[0m\n",
      "\u001b[036m[9064] LOG   >\u001b[0m Accuracy \u001b[034m(post avg)\u001b[0m <0.9s>: \u001b[034m92.0\u001b[0m\n",
      "\u001b[036m[9061] LOG   >\u001b[0m Accuracy \u001b[035m(pre avg)\u001b[0m <0.92s>: \u001b[035m92.55\u001b[0m\n",
      "\u001b[036m[9060] LOG   >\u001b[0m Accuracy \u001b[035m(pre avg)\u001b[0m <0.84s>: \u001b[035m92.26\u001b[0m\n",
      "\u001b[036m[9061] LOG   >\u001b[0m Accuracy \u001b[034m(post avg)\u001b[0m <0.84s>: \u001b[034m92.55\u001b[0m\n",
      "\u001b[036m[9060] LOG   >\u001b[0m Accuracy \u001b[034m(post avg)\u001b[0m <0.88s>: \u001b[034m92.26\u001b[0m\n",
      "\u001b[036m[9062] LOG   >\u001b[0m Accuracy \u001b[035m(pre avg)\u001b[0m <0.8s>: \u001b[035m90.2\u001b[0m\n",
      "\u001b[036m[9063] LOG   >\u001b[0m Accuracy \u001b[035m(pre avg)\u001b[0m <0.79s>: \u001b[035m91.98\u001b[0m\n",
      "\u001b[036m[9064] LOG   >\u001b[0m Accuracy \u001b[035m(pre avg)\u001b[0m <0.77s>: \u001b[035m92.05\u001b[0m\n",
      "\u001b[036m[9062] LOG   >\u001b[0m Accuracy \u001b[034m(post avg)\u001b[0m <0.67s>: \u001b[034m90.2\u001b[0m\n",
      "\u001b[036m[9063] LOG   >\u001b[0m Accuracy \u001b[034m(post avg)\u001b[0m <0.69s>: \u001b[034m91.98\u001b[0m\n",
      "\u001b[036m[9064] LOG   >\u001b[0m Accuracy \u001b[034m(post avg)\u001b[0m <0.73s>: \u001b[034m92.05\u001b[0m\n",
      "\u001b[036m[9061] LOG   >\u001b[0m Accuracy \u001b[035m(pre avg)\u001b[0m <0.68s>: \u001b[035m92.4\u001b[0m\n",
      "\u001b[036m[9061] LOG   >\u001b[0m Accuracy \u001b[034m(post avg)\u001b[0m <0.68s>: \u001b[034m92.4\u001b[0m\n",
      "\u001b[036m[9062] LOG   >\u001b[0m Accuracy \u001b[035m(pre avg)\u001b[0m <0.66s>: \u001b[035m90.07\u001b[0m\n",
      "\u001b[036m[9063] LOG   >\u001b[0m Accuracy \u001b[035m(pre avg)\u001b[0m <0.67s>: \u001b[035m91.98\u001b[0m\n",
      "\u001b[036m[9064] LOG   >\u001b[0m Accuracy \u001b[035m(pre avg)\u001b[0m <0.62s>: \u001b[035m92.12\u001b[0m\n",
      "\u001b[036m[9063] LOG   >\u001b[0m Accuracy \u001b[034m(post avg)\u001b[0m <0.5s>: \u001b[034m91.98\u001b[0m\n",
      "\u001b[036m[9062] LOG   >\u001b[0m Accuracy \u001b[034m(post avg)\u001b[0m <0.52s>: \u001b[034m90.07\u001b[0m\n",
      "\u001b[036m[9064] LOG   >\u001b[0m Accuracy \u001b[034m(post avg)\u001b[0m <0.51s>: \u001b[034m92.12\u001b[0m\n",
      "\u001b[036m[9063] LOG   >\u001b[0m Accuracy \u001b[035m(pre avg)\u001b[0m <0.33s>: \u001b[035m91.93\u001b[0m\n",
      "\u001b[036m[9064] LOG   >\u001b[0m Accuracy \u001b[035m(pre avg)\u001b[0m <0.32s>: \u001b[035m92.11\u001b[0m\n",
      "\u001b[036m[9063] LOG   >\u001b[0m Accuracy \u001b[034m(post avg)\u001b[0m <0.33s>: \u001b[034m91.93\u001b[0m\n",
      "\u001b[036m[9064] LOG   >\u001b[0m Accuracy \u001b[034m(post avg)\u001b[0m <0.34s>: \u001b[034m92.11\u001b[0m\n",
      "\u001b[036m[9064] LOG   >\u001b[0m Accuracy \u001b[035m(pre avg)\u001b[0m <0.24s>: \u001b[035m92.13\u001b[0m\n",
      "\u001b[036m[9064] LOG   >\u001b[0m Accuracy \u001b[034m(post avg)\u001b[0m <0.24s>: \u001b[034m92.13\u001b[0m\n"
     ]
    }
   ],
   "source": [
    "importlib.reload(swarm_node)\n",
    "\n",
    "node_ports = [x for x in range(9060, 9060+num_nodes)]\n",
    "swarm_node.log(\"SYS\", f\"Ports: {node_ports}\")\n",
    "init_model = swarm_node.new_model()\n",
    "for p in node_ports:\n",
    "    swarm_node.Node(p, [\"localhost:%s\"%x for x in node_ports if x != p and use_neighbors], model_ref=init_model, num_train_samples=2000)\n",
    "    time.sleep(1.5)\n",
    "swarm_node.log(\"SYS\", \"Started all nets\")"
   ]
  }
 ],
 "metadata": {
  "kernelspec": {
   "display_name": "Python 3",
   "language": "python",
   "name": "python3"
  },
  "language_info": {
   "codemirror_mode": {
    "name": "ipython",
    "version": 3
   },
   "file_extension": ".py",
   "mimetype": "text/x-python",
   "name": "python",
   "nbconvert_exporter": "python",
   "pygments_lexer": "ipython3",
   "version": "3.8.10"
  }
 },
 "nbformat": 4,
 "nbformat_minor": 2
}
