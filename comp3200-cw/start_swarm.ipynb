{
 "cells": [
  {
   "cell_type": "code",
   "execution_count": null,
   "metadata": {},
   "outputs": [],
   "source": []
  },
  {
   "cell_type": "code",
   "execution_count": null,
   "metadata": {},
   "outputs": [],
   "source": []
  },
  {
   "cell_type": "code",
   "execution_count": 3,
   "metadata": {
    "scrolled": true
   },
   "outputs": [
    {
     "name": "stdout",
     "output_type": "stream",
     "text": [
      "\u001b[036m[8010] LOG   >\u001b[0m Starting update thread\n",
      "\u001b[036m[8010] LOG   >\u001b[0m Listening for connections\n",
      "\u001b[036m[8011] LOG   >\u001b[0m Starting update thread\n",
      "\u001b[036m[8011] LOG   >\u001b[0m Listening for connections\n",
      "\u001b[036m[8010] LOG   >\u001b[0m Initial accuracy: 5.01\n",
      "\u001b[033m[8010] WARN  >\u001b[0m Could not send weights to (':', 8011): [Errno -2] Name or service not known\n",
      "\u001b[036m[8010] LOG   >\u001b[0m Finished sending weights to all neighbors\n",
      "\u001b[036m[8011] LOG   >\u001b[0m Initial accuracy: 9.67\n",
      "\u001b[033m[8011] WARN  >\u001b[0m Could not send weights to (':', 8010): [Errno -2] Name or service not known\n",
      "\u001b[036m[8011] LOG   >\u001b[0m Finished sending weights to all neighbors\n"
     ]
    }
   ],
   "source": [
    "import os\n",
    "os.environ['TF_CPP_MIN_LOG_LEVEL'] = '1' \n",
    "import swarm_node\n",
    "import importlib\n",
    "num_nodes = 2\n",
    "\n",
    "importlib.reload(swarm_node)\n",
    "node_ports = [x for x in range(8010, 8010+num_nodes)]\n",
    "init_model = swarm_node.new_model()\n",
    "for p in node_ports:\n",
    "    swarm_node.Node(p, [(\":\",x) for x in node_ports if x != p], model_ref=init_model)"
   ]
  }
 ],
 "metadata": {
  "kernelspec": {
   "display_name": "Python 3",
   "language": "python",
   "name": "python3"
  },
  "language_info": {
   "codemirror_mode": {
    "name": "ipython",
    "version": 3
   },
   "file_extension": ".py",
   "mimetype": "text/x-python",
   "name": "python",
   "nbconvert_exporter": "python",
   "pygments_lexer": "ipython3",
   "version": "3.8.10"
  }
 },
 "nbformat": 4,
 "nbformat_minor": 2
}
