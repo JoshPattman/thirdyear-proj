{
 "cells": [
  {
   "cell_type": "code",
   "execution_count": 6,
   "metadata": {},
   "outputs": [],
   "source": [
    "import protocol\n",
    "import socket, sys\n",
    "from keras.datasets import mnist\n",
    "import numpy as np\n",
    "import tensorflow as tf"
   ]
  },
  {
   "cell_type": "code",
   "execution_count": 7,
   "metadata": {},
   "outputs": [
    {
     "name": "stdout",
     "output_type": "stream",
     "text": [
      "GPU:  [PhysicalDevice(name='/physical_device:GPU:0', device_type='GPU')]\n"
     ]
    }
   ],
   "source": [
    "print('GPU: ', tf.config.experimental.list_physical_devices('GPU'))"
   ]
  },
  {
   "cell_type": "code",
   "execution_count": 8,
   "metadata": {},
   "outputs": [
    {
     "name": "stdout",
     "output_type": "stream",
     "text": [
      "Listening on port 9000\n"
     ]
    }
   ],
   "source": [
    "listen_port = sys.argv[1]\n",
    "try:\n",
    "    listen_port = int(listen_port)\n",
    "except:\n",
    "    listen_port = 9000\n",
    "print(\"Listening on port %s\"%listen_port)"
   ]
  },
  {
   "cell_type": "code",
   "execution_count": 9,
   "metadata": {},
   "outputs": [],
   "source": [
    "(train_X, train_Y), (test_X, test_Y) = mnist.load_data()"
   ]
  },
  {
   "cell_type": "code",
   "execution_count": 27,
   "metadata": {},
   "outputs": [],
   "source": [
    "from keras.layers import Dense, Input, Flatten, Conv2D, Reshape\n",
    "from keras import Model\n",
    "from keras.losses import SparseCategoricalCrossentropy\n",
    "from keras.metrics import SparseCategoricalAccuracy"
   ]
  },
  {
   "cell_type": "code",
   "execution_count": 28,
   "metadata": {},
   "outputs": [
    {
     "name": "stdout",
     "output_type": "stream",
     "text": [
      "Model: \"model_4\"\n",
      "_________________________________________________________________\n",
      " Layer (type)                Output Shape              Param #   \n",
      "=================================================================\n",
      " input_9 (InputLayer)        [(None, 28, 28)]          0         \n",
      "                                                                 \n",
      " reshape (Reshape)           (None, 28, 28, 1)         0         \n",
      "                                                                 \n",
      " conv2d_3 (Conv2D)           (None, 26, 26, 16)        160       \n",
      "                                                                 \n",
      " flatten_4 (Flatten)         (None, 10816)             0         \n",
      "                                                                 \n",
      " dense_12 (Dense)            (None, 128)               1384576   \n",
      "                                                                 \n",
      " dense_13 (Dense)            (None, 10)                1290      \n",
      "                                                                 \n",
      "=================================================================\n",
      "Total params: 1,386,026\n",
      "Trainable params: 1,386,026\n",
      "Non-trainable params: 0\n",
      "_________________________________________________________________\n"
     ]
    }
   ],
   "source": [
    "inp = Input((28,28))\n",
    "out = Reshape((28,28,1))(inp)\n",
    "out = Conv2D(16, (3,3), activation=\"relu\")(out)\n",
    "out = Flatten()(out)\n",
    "out = Dense(128, activation=\"relu\")(out)\n",
    "out = Dense(10, activation=\"sigmoid\")(out)\n",
    "model = Model(inputs=inp, outputs=out)\n",
    "model.compile(optimizer=\"adam\", loss=SparseCategoricalCrossentropy(from_logits=True), metrics=[SparseCategoricalAccuracy()])\n",
    "model.summary()"
   ]
  },
  {
   "cell_type": "code",
   "execution_count": null,
   "metadata": {},
   "outputs": [
    {
     "name": "stdout",
     "output_type": "stream",
     "text": [
      "Epoch 1/10\n",
      "1875/1875 [==============================] - 6s 1ms/step - loss: 0.9507 - sparse_categorical_accuracy: 0.9192\n",
      "Epoch 2/10\n",
      "1875/1875 [==============================] - 2s 1ms/step - loss: 0.0973 - sparse_categorical_accuracy: 0.9716\n",
      "Epoch 3/10\n",
      "1875/1875 [==============================] - 3s 1ms/step - loss: 0.0617 - sparse_categorical_accuracy: 0.9805\n",
      "Epoch 4/10\n",
      "1875/1875 [==============================] - 2s 1ms/step - loss: 0.0523 - sparse_categorical_accuracy: 0.9840\n",
      "Epoch 5/10\n",
      "1875/1875 [==============================] - 2s 1ms/step - loss: 0.0399 - sparse_categorical_accuracy: 0.9879\n",
      "Epoch 6/10\n",
      "1875/1875 [==============================] - 2s 1ms/step - loss: 0.0318 - sparse_categorical_accuracy: 0.9898\n",
      "Epoch 7/10\n",
      "1875/1875 [==============================] - 2s 1ms/step - loss: 0.0240 - sparse_categorical_accuracy: 0.9930\n",
      "Epoch 8/10\n",
      "1875/1875 [==============================] - 2s 1ms/step - loss: 0.0212 - sparse_categorical_accuracy: 0.9935\n",
      "Epoch 9/10\n",
      "1875/1875 [==============================] - 2s 1ms/step - loss: 0.0207 - sparse_categorical_accuracy: 0.9945\n",
      "Epoch 10/10\n",
      "1256/1875 [===================>..........] - ETA: 0s - loss: 0.0152 - sparse_categorical_accuracy: 0.9957"
     ]
    }
   ],
   "source": [
    "model.fit(train_X, train_Y, epochs=10)"
   ]
  },
  {
   "cell_type": "code",
   "execution_count": 19,
   "metadata": {},
   "outputs": [
    {
     "name": "stdout",
     "output_type": "stream",
     "text": [
      "313/313 [==============================] - 0s 499us/step\n"
     ]
    }
   ],
   "source": [
    "preds = model.predict(test_X)"
   ]
  },
  {
   "cell_type": "code",
   "execution_count": 20,
   "metadata": {},
   "outputs": [
    {
     "name": "stdout",
     "output_type": "stream",
     "text": [
      "7 3\n",
      "2 2\n",
      "1 0\n",
      "0 0\n",
      "4 0\n",
      "1 0\n",
      "4 0\n",
      "9 1\n",
      "5 0\n",
      "9 0\n",
      "0 0\n",
      "6 0\n",
      "9 0\n",
      "0 0\n",
      "1 0\n",
      "5 3\n",
      "9 0\n",
      "7 7\n",
      "3 0\n",
      "4 0\n",
      "9 0\n",
      "6 0\n",
      "6 0\n",
      "5 3\n",
      "4 0\n",
      "0 0\n",
      "7 7\n",
      "4 0\n",
      "0 0\n",
      "1 1\n",
      "3 0\n",
      "1 1\n",
      "3 0\n",
      "4 0\n",
      "7 7\n",
      "2 2\n",
      "7 7\n",
      "1 0\n",
      "2 2\n",
      "1 0\n",
      "1 1\n",
      "7 7\n",
      "4 0\n",
      "2 2\n",
      "3 0\n",
      "5 5\n",
      "1 0\n",
      "2 2\n",
      "4 0\n",
      "4 0\n",
      "6 0\n",
      "3 0\n",
      "5 5\n",
      "5 3\n",
      "6 0\n",
      "0 0\n",
      "4 0\n",
      "1 0\n",
      "9 0\n",
      "5 5\n",
      "7 1\n",
      "8 0\n",
      "9 1\n",
      "3 0\n",
      "7 3\n",
      "4 0\n",
      "6 0\n",
      "4 0\n",
      "3 0\n",
      "0 0\n",
      "7 7\n",
      "0 0\n",
      "2 2\n",
      "9 2\n",
      "1 0\n",
      "7 7\n",
      "3 0\n",
      "2 2\n",
      "9 0\n",
      "7 7\n",
      "7 7\n",
      "6 0\n",
      "2 2\n",
      "7 7\n",
      "8 0\n",
      "4 0\n",
      "7 7\n",
      "3 0\n",
      "6 0\n",
      "1 0\n",
      "3 0\n",
      "6 0\n",
      "9 0\n",
      "3 0\n",
      "1 0\n",
      "4 0\n",
      "1 0\n",
      "7 7\n",
      "6 0\n",
      "9 0\n"
     ]
    }
   ],
   "source": [
    "for i in range(100):\n",
    "    print(test_Y[i], np.argmax(preds[i]))"
   ]
  }
 ],
 "metadata": {
  "kernelspec": {
   "display_name": "Python 3",
   "language": "python",
   "name": "python3"
  },
  "language_info": {
   "codemirror_mode": {
    "name": "ipython",
    "version": 3
   },
   "file_extension": ".py",
   "mimetype": "text/x-python",
   "name": "python",
   "nbconvert_exporter": "python",
   "pygments_lexer": "ipython3",
   "version": "3.8.10"
  }
 },
 "nbformat": 4,
 "nbformat_minor": 2
}
