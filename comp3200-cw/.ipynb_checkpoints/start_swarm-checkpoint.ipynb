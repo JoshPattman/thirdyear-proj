{
 "cells": [
  {
   "cell_type": "code",
   "execution_count": null,
   "metadata": {},
   "outputs": [],
   "source": []
  },
  {
   "cell_type": "code",
   "execution_count": null,
   "metadata": {},
   "outputs": [],
   "source": []
  },
  {
   "cell_type": "code",
   "execution_count": 2,
   "metadata": {
    "scrolled": true
   },
   "outputs": [
    {
     "name": "stdout",
     "output_type": "stream",
     "text": [
      "\u001b[036m[8000] LOG   >\u001b[0m Starting update thread\n",
      "\u001b[036m[8000] LOG   >\u001b[0m Listening for connections\n",
      "\u001b[036m[8001] LOG   >\u001b[0m Starting update thread\n",
      "\u001b[036m[8001] LOG   >\u001b[0m Listening for connections\n",
      "\u001b[036m[8000] LOG   >\u001b[0m Initial accuracy: 11.84\n",
      "\u001b[033m[8000] WARN  >\u001b[0m Could not send weights to ('localhost', 8001): [Errno 99] Cannot assign requested address\n",
      "\u001b[036m[8000] LOG   >\u001b[0m Finished sending weights to all neighbors\n",
      "\u001b[036m[8001] LOG   >\u001b[0m Initial accuracy: 11.17\n",
      "\u001b[033m[8001] WARN  >\u001b[0m Could not send weights to ('localhost', 8000): [Errno 99] Cannot assign requested address\n",
      "\u001b[036m[8001] LOG   >\u001b[0m Finished sending weights to all neighbors\n",
      "\u001b[036m[8000] LOG   >\u001b[0m Accuracy: 97.44\n",
      "\u001b[036m[8001] LOG   >\u001b[0m Accuracy: 97.93\n"
     ]
    }
   ],
   "source": [
    "import os\n",
    "os.environ['TF_CPP_MIN_LOG_LEVEL'] = '1' \n",
    "import swarm_node\n",
    "import importlib\n",
    "num_nodes = 2\n",
    "\n",
    "importlib.reload(swarm_node)\n",
    "node_ports = [x for x in range(8010, 8010+num_nodes)]\n",
    "init_model = swarm_node.new_model()\n",
    "for p in node_ports:\n",
    "    swarm_node.Node(p, [(\":\",x) for x in node_ports if x != p], model_ref=init_model)"
   ]
  }
 ],
 "metadata": {
  "kernelspec": {
   "display_name": "Python 3",
   "language": "python",
   "name": "python3"
  },
  "language_info": {
   "codemirror_mode": {
    "name": "ipython",
    "version": 3
   },
   "file_extension": ".py",
   "mimetype": "text/x-python",
   "name": "python",
   "nbconvert_exporter": "python",
   "pygments_lexer": "ipython3",
   "version": "3.8.10"
  }
 },
 "nbformat": 4,
 "nbformat_minor": 2
}
