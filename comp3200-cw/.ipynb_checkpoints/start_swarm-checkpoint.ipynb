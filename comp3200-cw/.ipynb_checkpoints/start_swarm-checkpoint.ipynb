{
 "cells": [
  {
   "cell_type": "code",
   "execution_count": 2,
   "metadata": {},
   "outputs": [
    {
     "name": "stdout",
     "output_type": "stream",
     "text": [
      "Loading modules\n",
      "\u001b[036m[SYS] LOG   >\u001b[0m Loaded modules\n"
     ]
    }
   ],
   "source": [
    "print(\"Loading modules\")\n",
    "import os\n",
    "os.environ['TF_CPP_MIN_LOG_LEVEL'] = '1'\n",
    "#os.environ['CUDA_VISIBLE_DEVICES'] = '-1'# disable gpu\n",
    "import swarm_node\n",
    "import importlib\n",
    "import time\n",
    "swarm_node.log(\"SYS\", \"Loaded modules\")"
   ]
  },
  {
   "cell_type": "code",
   "execution_count": 3,
   "metadata": {},
   "outputs": [],
   "source": [
    "num_nodes = 5\n",
    "use_neighbors = True\n",
    "train_samples = 60000"
   ]
  },
  {
   "cell_type": "code",
   "execution_count": 4,
   "metadata": {
    "scrolled": true
   },
   "outputs": [
    {
     "name": "stdout",
     "output_type": "stream",
     "text": [
      "\u001b[036m[SYS] LOG   >\u001b[0m Ports: [9060, 9061, 9062, 9063, 9064]\n",
      "\u001b[036m[9060] LOG   >\u001b[0m Starting update thread\n",
      "\u001b[036m[9060] LOG   >\u001b[0m Listening for weight requests\n",
      " * Serving Flask app 'protocol_v2'\n",
      " * Debug mode: off\n",
      "\u001b[036m[9060] LOG   >\u001b[0m Accuracy \u001b[0m(no training)\u001b[0m <1.44s>: \u001b[0m9.11\u001b[0m\n",
      "\u001b[036m[9061] LOG   >\u001b[0m Starting update thread\n",
      "\u001b[036m[9061] LOG   >\u001b[0m Listening for weight requests\n",
      " * Serving Flask app 'protocol_v2'\n",
      " * Debug mode: off\n",
      "\u001b[036m[9061] LOG   >\u001b[0m Accuracy \u001b[0m(no training)\u001b[0m <0.54s>: \u001b[0m6.82\u001b[0m\n",
      "\u001b[036m[9062] LOG   >\u001b[0m Starting update thread\n",
      "\u001b[036m[9062] LOG   >\u001b[0m Listening for weight requests\n",
      " * Serving Flask app 'protocol_v2'\n",
      " * Debug mode: off\n",
      "\u001b[036m[9062] LOG   >\u001b[0m Accuracy \u001b[0m(no training)\u001b[0m <0.72s>: \u001b[0m9.47\u001b[0m\n",
      "\u001b[036m[9063] LOG   >\u001b[0m Starting update thread\n",
      "\u001b[036m[9063] LOG   >\u001b[0m Listening for weight requests\n",
      " * Serving Flask app 'protocol_v2'\n",
      " * Debug mode: off\n",
      "\u001b[036m[9063] LOG   >\u001b[0m Accuracy \u001b[0m(no training)\u001b[0m <1.0s>: \u001b[0m10.24\u001b[0m\n",
      "\u001b[036m[9064] LOG   >\u001b[0m Starting update thread\n",
      "\u001b[036m[9064] LOG   >\u001b[0m Listening for weight requests\n",
      " * Serving Flask app 'protocol_v2'\n",
      " * Debug mode: off\n",
      "\u001b[036m[9064] LOG   >\u001b[0m Accuracy \u001b[0m(no training)\u001b[0m <1.13s>: \u001b[0m16.24\u001b[0m\n",
      "\u001b[036m[SYS] LOG   >\u001b[0m Started all nets\n",
      "\u001b[036m[9060] LOG   >\u001b[0m Accuracy \u001b[035m(pre avg step (0))\u001b[0m <1.19s>: \u001b[035m96.25\u001b[0m\n",
      "\u001b[036m[9060] LOG   >\u001b[0m Accuracy \u001b[034m(post avg nstep (0))\u001b[0m <1.09s>: \u001b[034m7.27\u001b[0m\n",
      "\u001b[036m[9061] LOG   >\u001b[0m Accuracy \u001b[035m(pre avg step (0))\u001b[0m <1.08s>: \u001b[035m97.58\u001b[0m\n",
      "\u001b[036m[9061] LOG   >\u001b[0m Accuracy \u001b[034m(post avg nstep (0))\u001b[0m <1.16s>: \u001b[034m13.67\u001b[0m\n",
      "\u001b[036m[9062] LOG   >\u001b[0m Accuracy \u001b[035m(pre avg step (0))\u001b[0m <1.2s>: \u001b[035m97.52\u001b[0m\n",
      "\u001b[036m[9062] LOG   >\u001b[0m Accuracy \u001b[034m(post avg nstep (0))\u001b[0m <1.15s>: \u001b[034m14.86\u001b[0m\n",
      "\u001b[036m[9063] LOG   >\u001b[0m Accuracy \u001b[035m(pre avg step (0))\u001b[0m <1.18s>: \u001b[035m97.8\u001b[0m\n",
      "\u001b[036m[9063] LOG   >\u001b[0m Accuracy \u001b[034m(post avg nstep (0))\u001b[0m <1.17s>: \u001b[034m8.64\u001b[0m\n",
      "\u001b[036m[9064] LOG   >\u001b[0m Accuracy \u001b[035m(pre avg step (0))\u001b[0m <1.18s>: \u001b[035m96.91\u001b[0m\n",
      "\u001b[036m[9060] LOG   >\u001b[0m Accuracy \u001b[035m(pre avg step (1))\u001b[0m <2.92s>: \u001b[035m97.58\u001b[0m\n",
      "\u001b[036m[9064] LOG   >\u001b[0m Accuracy \u001b[034m(post avg nstep (0))\u001b[0m <5.66s>: \u001b[034m11.3\u001b[0m\n",
      "\u001b[036m[9060] LOG   >\u001b[0m Accuracy \u001b[034m(post avg nstep (1))\u001b[0m <1.12s>: \u001b[034m24.04\u001b[0m\n",
      "\u001b[036m[9061] LOG   >\u001b[0m Accuracy \u001b[035m(pre avg step (1))\u001b[0m <1.09s>: \u001b[035m98.35\u001b[0m\n",
      "\u001b[036m[9061] LOG   >\u001b[0m Accuracy \u001b[034m(post avg nstep (1))\u001b[0m <1.16s>: \u001b[034m78.66\u001b[0m\n",
      "\u001b[036m[9062] LOG   >\u001b[0m Accuracy \u001b[035m(pre avg step (1))\u001b[0m <1.15s>: \u001b[035m98.07\u001b[0m\n",
      "\u001b[036m[9062] LOG   >\u001b[0m Accuracy \u001b[034m(post avg nstep (1))\u001b[0m <1.17s>: \u001b[034m83.77\u001b[0m\n",
      "\u001b[036m[9063] LOG   >\u001b[0m Accuracy \u001b[035m(pre avg step (1))\u001b[0m <1.2s>: \u001b[035m98.05\u001b[0m\n",
      "\u001b[036m[9063] LOG   >\u001b[0m Accuracy \u001b[034m(post avg nstep (1))\u001b[0m <1.18s>: \u001b[034m87.21\u001b[0m\n",
      "\u001b[036m[9064] LOG   >\u001b[0m Accuracy \u001b[035m(pre avg step (1))\u001b[0m <1.21s>: \u001b[035m98.03\u001b[0m\n",
      "\u001b[036m[9060] LOG   >\u001b[0m Accuracy \u001b[035m(pre avg step (2))\u001b[0m <3.56s>: \u001b[035m97.97\u001b[0m\n",
      "\u001b[036m[9064] LOG   >\u001b[0m Accuracy \u001b[034m(post avg nstep (1))\u001b[0m <5.41s>: \u001b[034m96.5\u001b[0m\n",
      "\u001b[036m[9060] LOG   >\u001b[0m Accuracy \u001b[034m(post avg nstep (2))\u001b[0m <1.15s>: \u001b[034m96.5\u001b[0m\n",
      "\u001b[036m[9061] LOG   >\u001b[0m Accuracy \u001b[035m(pre avg step (2))\u001b[0m <1.08s>: \u001b[035m98.09\u001b[0m\n",
      "\u001b[036m[9061] LOG   >\u001b[0m Accuracy \u001b[034m(post avg nstep (2))\u001b[0m <1.25s>: \u001b[034m96.47\u001b[0m\n",
      "\u001b[036m[9062] LOG   >\u001b[0m Accuracy \u001b[035m(pre avg step (2))\u001b[0m <1.24s>: \u001b[035m98.48\u001b[0m\n",
      "\u001b[036m[9062] LOG   >\u001b[0m Accuracy \u001b[034m(post avg nstep (2))\u001b[0m <1.15s>: \u001b[034m95.66\u001b[0m\n",
      "\u001b[036m[9063] LOG   >\u001b[0m Accuracy \u001b[035m(pre avg step (2))\u001b[0m <1.14s>: \u001b[035m98.26\u001b[0m\n",
      "\u001b[036m[9063] LOG   >\u001b[0m Accuracy \u001b[034m(post avg nstep (2))\u001b[0m <1.16s>: \u001b[034m98.28\u001b[0m\n",
      "\u001b[036m[9064] LOG   >\u001b[0m Accuracy \u001b[035m(pre avg step (2))\u001b[0m <1.14s>: \u001b[035m98.48\u001b[0m\n",
      "\u001b[036m[9060] LOG   >\u001b[0m Accuracy \u001b[035m(pre avg step (3))\u001b[0m <1.1s>: \u001b[035m97.87\u001b[0m\n",
      "\u001b[036m[9064] LOG   >\u001b[0m Accuracy \u001b[034m(post avg nstep (2))\u001b[0m <1.08s>: \u001b[034m98.59\u001b[0m\n",
      "\u001b[036m[9061] LOG   >\u001b[0m Accuracy \u001b[035m(pre avg step (3))\u001b[0m <2.36s>: \u001b[035m98.24\u001b[0m\n",
      "\u001b[036m[9060] LOG   >\u001b[0m Accuracy \u001b[034m(post avg nstep (3))\u001b[0m <5.54s>: \u001b[034m98.63\u001b[0m\n",
      "\u001b[036m[9061] LOG   >\u001b[0m Accuracy \u001b[034m(post avg nstep (3))\u001b[0m <1.2s>: \u001b[034m98.87\u001b[0m\n",
      "\u001b[036m[9062] LOG   >\u001b[0m Accuracy \u001b[035m(pre avg step (3))\u001b[0m <1.16s>: \u001b[035m98.0\u001b[0m\n",
      "\u001b[036m[9062] LOG   >\u001b[0m Accuracy \u001b[034m(post avg nstep (3))\u001b[0m <1.2s>: \u001b[034m98.9\u001b[0m\n",
      "\u001b[036m[9063] LOG   >\u001b[0m Accuracy \u001b[035m(pre avg step (3))\u001b[0m <1.18s>: \u001b[035m98.36\u001b[0m\n",
      "\u001b[036m[9063] LOG   >\u001b[0m Accuracy \u001b[034m(post avg nstep (3))\u001b[0m <1.17s>: \u001b[034m98.89\u001b[0m\n",
      "\u001b[036m[9064] LOG   >\u001b[0m Accuracy \u001b[035m(pre avg step (3))\u001b[0m <1.18s>: \u001b[035m98.47\u001b[0m\n",
      "\u001b[036m[9064] LOG   >\u001b[0m Accuracy \u001b[034m(post avg nstep (3))\u001b[0m <1.04s>: \u001b[034m98.92\u001b[0m\n",
      "\u001b[036m[9060] LOG   >\u001b[0m Accuracy \u001b[035m(pre avg step (4))\u001b[0m <1.08s>: \u001b[035m97.97\u001b[0m\n",
      "\u001b[036m[9061] LOG   >\u001b[0m Accuracy \u001b[035m(pre avg step (4))\u001b[0m <5.21s>: \u001b[035m98.53\u001b[0m\n",
      "\u001b[036m[9060] LOG   >\u001b[0m Accuracy \u001b[034m(post avg nstep (4))\u001b[0m <5.3s>: \u001b[034m99.05\u001b[0m\n",
      "\u001b[036m[9061] LOG   >\u001b[0m Accuracy \u001b[034m(post avg nstep (4))\u001b[0m <1.21s>: \u001b[034m99.05\u001b[0m\n",
      "\u001b[036m[9062] LOG   >\u001b[0m Accuracy \u001b[035m(pre avg step (4))\u001b[0m <1.15s>: \u001b[035m98.42\u001b[0m\n",
      "\u001b[036m[9062] LOG   >\u001b[0m Accuracy \u001b[034m(post avg nstep (4))\u001b[0m <1.13s>: \u001b[034m99.0\u001b[0m\n",
      "\u001b[036m[9063] LOG   >\u001b[0m Accuracy \u001b[035m(pre avg step (4))\u001b[0m <1.17s>: \u001b[035m98.42\u001b[0m\n",
      "\u001b[036m[9063] LOG   >\u001b[0m Accuracy \u001b[034m(post avg nstep (4))\u001b[0m <1.18s>: \u001b[034m99.01\u001b[0m\n",
      "\u001b[036m[9064] LOG   >\u001b[0m Accuracy \u001b[035m(pre avg step (4))\u001b[0m <1.17s>: \u001b[035m98.01\u001b[0m\n",
      "\u001b[036m[9064] LOG   >\u001b[0m Accuracy \u001b[034m(post avg nstep (4))\u001b[0m <1.09s>: \u001b[034m98.96\u001b[0m\n",
      "\u001b[036m[9060] LOG   >\u001b[0m Accuracy \u001b[035m(pre avg step (5))\u001b[0m <1.14s>: \u001b[035m98.41\u001b[0m\n",
      "\u001b[036m[9061] LOG   >\u001b[0m Accuracy \u001b[035m(pre avg step (5))\u001b[0m <5.23s>: \u001b[035m98.4\u001b[0m\n",
      "\u001b[036m[9060] LOG   >\u001b[0m Accuracy \u001b[034m(post avg nstep (5))\u001b[0m <5.27s>: \u001b[034m98.96\u001b[0m\n",
      "\u001b[036m[9061] LOG   >\u001b[0m Accuracy \u001b[034m(post avg nstep (5))\u001b[0m <1.22s>: \u001b[034m98.96\u001b[0m\n",
      "\u001b[036m[9062] LOG   >\u001b[0m Accuracy \u001b[035m(pre avg step (5))\u001b[0m <1.14s>: \u001b[035m97.94\u001b[0m\n",
      "\u001b[036m[9062] LOG   >\u001b[0m Accuracy \u001b[034m(post avg nstep (5))\u001b[0m <1.17s>: \u001b[034m99.02\u001b[0m\n",
      "\u001b[036m[9063] LOG   >\u001b[0m Accuracy \u001b[035m(pre avg step (5))\u001b[0m <1.15s>: \u001b[035m98.54\u001b[0m\n",
      "\u001b[036m[9063] LOG   >\u001b[0m Accuracy \u001b[034m(post avg nstep (5))\u001b[0m <1.2s>: \u001b[034m99.0\u001b[0m\n",
      "\u001b[036m[9064] LOG   >\u001b[0m Accuracy \u001b[035m(pre avg step (5))\u001b[0m <1.17s>: \u001b[035m98.27\u001b[0m\n",
      "\u001b[036m[9064] LOG   >\u001b[0m Accuracy \u001b[034m(post avg nstep (5))\u001b[0m <1.14s>: \u001b[034m99.01\u001b[0m\n",
      "\u001b[036m[9060] LOG   >\u001b[0m Accuracy \u001b[035m(pre avg step (6))\u001b[0m <1.17s>: \u001b[035m98.45\u001b[0m\n",
      "\u001b[036m[9061] LOG   >\u001b[0m Accuracy \u001b[035m(pre avg step (6))\u001b[0m <5.28s>: \u001b[035m98.4\u001b[0m\n",
      "\u001b[036m[9060] LOG   >\u001b[0m Accuracy \u001b[034m(post avg nstep (6))\u001b[0m <5.39s>: \u001b[034m99.0\u001b[0m\n",
      "\u001b[036m[9061] LOG   >\u001b[0m Accuracy \u001b[034m(post avg nstep (6))\u001b[0m <1.17s>: \u001b[034m99.0\u001b[0m\n",
      "\u001b[036m[9062] LOG   >\u001b[0m Accuracy \u001b[035m(pre avg step (6))\u001b[0m <1.13s>: \u001b[035m97.42\u001b[0m\n",
      "\u001b[036m[9062] LOG   >\u001b[0m Accuracy \u001b[034m(post avg nstep (6))\u001b[0m <1.17s>: \u001b[034m98.96\u001b[0m\n",
      "\u001b[036m[9063] LOG   >\u001b[0m Accuracy \u001b[035m(pre avg step (6))\u001b[0m <1.19s>: \u001b[035m98.59\u001b[0m\n",
      "\u001b[036m[9063] LOG   >\u001b[0m Accuracy \u001b[034m(post avg nstep (6))\u001b[0m <1.14s>: \u001b[034m99.01\u001b[0m\n",
      "\u001b[036m[9064] LOG   >\u001b[0m Accuracy \u001b[035m(pre avg step (6))\u001b[0m <1.16s>: \u001b[035m97.87\u001b[0m\n",
      "\u001b[036m[9064] LOG   >\u001b[0m Accuracy \u001b[034m(post avg nstep (6))\u001b[0m <1.18s>: \u001b[034m98.94\u001b[0m\n",
      "\u001b[036m[9060] LOG   >\u001b[0m Accuracy \u001b[035m(pre avg step (7))\u001b[0m <1.17s>: \u001b[035m98.29\u001b[0m\n",
      "\u001b[036m[9061] LOG   >\u001b[0m Accuracy \u001b[035m(pre avg step (7))\u001b[0m <5.27s>: \u001b[035m98.07\u001b[0m\n",
      "\u001b[036m[9060] LOG   >\u001b[0m Accuracy \u001b[034m(post avg nstep (7))\u001b[0m <5.2s>: \u001b[034m98.87\u001b[0m\n",
      "\u001b[036m[9061] LOG   >\u001b[0m Accuracy \u001b[034m(post avg nstep (7))\u001b[0m <0.92s>: \u001b[034m98.87\u001b[0m\n",
      "\u001b[036m[9062] LOG   >\u001b[0m Accuracy \u001b[035m(pre avg step (7))\u001b[0m <0.7s>: \u001b[035m98.65\u001b[0m\n",
      "\u001b[036m[9062] LOG   >\u001b[0m Accuracy \u001b[034m(post avg nstep (7))\u001b[0m <0.7s>: \u001b[034m98.87\u001b[0m\n",
      "\u001b[036m[9063] LOG   >\u001b[0m Accuracy \u001b[035m(pre avg step (7))\u001b[0m <0.47s>: \u001b[035m97.9\u001b[0m\n",
      "\u001b[036m[9063] LOG   >\u001b[0m Accuracy \u001b[034m(post avg nstep (7))\u001b[0m <0.48s>: \u001b[034m98.95\u001b[0m\n"
     ]
    },
    {
     "name": "stdout",
     "output_type": "stream",
     "text": [
      "\u001b[036m[9064] LOG   >\u001b[0m Accuracy \u001b[035m(pre avg step (7))\u001b[0m <0.24s>: \u001b[035m98.3\u001b[0m\n",
      "\u001b[036m[9064] LOG   >\u001b[0m Accuracy \u001b[034m(post avg nstep (7))\u001b[0m <0.25s>: \u001b[034m98.93\u001b[0m\n"
     ]
    }
   ],
   "source": [
    "importlib.reload(swarm_node)\n",
    "\n",
    "node_ports = [x for x in range(9060, 9060+num_nodes)]\n",
    "swarm_node.log(\"SYS\", f\"Ports: {node_ports}\")\n",
    "init_model = swarm_node.new_model()\n",
    "nodes = {}\n",
    "for p in node_ports:\n",
    "    nodes[p] = swarm_node.Node(p, [\"localhost:%s\"%x for x in node_ports if x != p and use_neighbors], model_ref=init_model, num_train_samples=train_samples)\n",
    "    time.sleep(1.5)\n",
    "swarm_node.log(\"SYS\", \"Started all nets\")"
   ]
  },
  {
   "cell_type": "code",
   "execution_count": 5,
   "metadata": {},
   "outputs": [
    {
     "name": "stdout",
     "output_type": "stream",
     "text": [
      "x_m60k, y_m60k = [1.457859, 14.923094, 48.442785, 81.833562, 119.560985, 152.377408, 184.95454, 217.641624, 250.26072], [9.11, 7.27, 24.04, 96.5, 98.63, 99.05, 98.96, 99.0, 98.87]\n"
     ]
    }
   ],
   "source": [
    "print(\"x_m60k, y_m60k = %s, %s\"%(nodes[node_ports[0]].train_times,nodes[node_ports[0]].train_accuracies))"
   ]
  }
 ],
 "metadata": {
  "kernelspec": {
   "display_name": "Python 3",
   "language": "python",
   "name": "python3"
  },
  "language_info": {
   "codemirror_mode": {
    "name": "ipython",
    "version": 3
   },
   "file_extension": ".py",
   "mimetype": "text/x-python",
   "name": "python",
   "nbconvert_exporter": "python",
   "pygments_lexer": "ipython3",
   "version": "3.8.10"
  }
 },
 "nbformat": 4,
 "nbformat_minor": 2
}
